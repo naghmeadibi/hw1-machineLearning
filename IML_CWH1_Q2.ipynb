{
  "cells": [
    {
      "cell_type": "markdown",
      "metadata": {
        "id": "view-in-github",
        "colab_type": "text"
      },
      "source": [
        "<a href=\"https://colab.research.google.com/github/naghmeadibi/hw1-machineLearning/blob/main/IML_CWH1_Q2.ipynb\" target=\"_parent\"><img src=\"https://colab.research.google.com/assets/colab-badge.svg\" alt=\"Open In Colab\"/></a>"
      ]
    },
    {
      "cell_type": "markdown",
      "source": [
        "<h1 align=\"center\">An Introduction to Machine Learning - 25737</h1>\n",
        "<h4 align=\"center\">Dr. Sajjad Amini</h4>\n",
        "<h4 align=\"center\">Sharif University of Technology, Spring 2023</h4>\n",
        "\n",
        "# Problem Set 02\n",
        "\n",
        "Welcome to your second assignment. This exercise gives you a brief introduction to Python. \n"
      ],
      "metadata": {
        "id": "9CFNN5Ms51un"
      }
    },
    {
      "cell_type": "markdown",
      "source": [
        "STUDENT NAME: Naghmeh Adibi\n",
        "\n",
        "STUDENT ID: 99101076"
      ],
      "metadata": {
        "id": "otVWavun6BLM"
      }
    },
    {
      "cell_type": "markdown",
      "source": [
        "## Import \n",
        ">Put all of your imports for this file in the below cell."
      ],
      "metadata": {
        "id": "ZmfUgXgE51uo"
      }
    },
    {
      "cell_type": "code",
      "execution_count": null,
      "source": [
        "### START CODE HERE ###\n",
        "import numpy \n",
        "import csv \n",
        "import pandas \n",
        "from google.colab import drive \n",
        "import matplotlib.pyplot as plt\n",
        "### END CODE HERE ###"
      ],
      "outputs": [],
      "metadata": {
        "id": "PKyVIvPF51uo"
      }
    },
    {
      "cell_type": "markdown",
      "source": [
        "# Question 1"
      ],
      "metadata": {
        "id": "TK-ZIy9Z51up"
      }
    },
    {
      "cell_type": "markdown",
      "source": [
        "## Array creation\n",
        ">Create the followings to numpy array:\n",
        "* A: a 3\\*3 array like this:\n",
        "$$\n",
        "A = \\left(\\begin{array}{cc} \n",
        "10 & 20 & 30\\\\\n",
        "5 & 10 & 15\\\\\n",
        "1 & 5 & 8\n",
        "\\end{array}\\right)\n",
        "$$ \n",
        "* B: a 3\\*3\\*4 that filled with the numbers start from 15 and have steps of 5 to the end. The array should be filled first along the first dimension then the second dimension and at last the third dimension. like this:\n",
        "$$\n",
        "B[:, :, 0] = \\left(\\begin{array}{cc} \n",
        "15 & 30 & 45\\\\\n",
        "20 & 35 & 50\\\\\n",
        "25 & 40 & 55\n",
        "\\end{array}\\right)\n",
        "$$ "
      ],
      "metadata": {
        "id": "xATpgtcD51up"
      }
    },
    {
      "cell_type": "markdown",
      "source": [],
      "metadata": {
        "id": "cgC-4XJAEfib"
      }
    },
    {
      "cell_type": "code",
      "execution_count": null,
      "source": [
        "### START CODE HERE ###\n",
        "a = [[10, 20, 30], [5, 10, 15], [1, 5, 8]]\n",
        "Anp = numpy.array(a)\n",
        "print('A = ', Anp)\n",
        "\n",
        "Bnp = numpy.arange(15, 191, 5)\n",
        "Bnp = Bnp.reshape(4, 3, 3)\n",
        "for i in range(0, len(Bnp)):\n",
        "  Bnp[i]  = Bnp[i].transpose()\n",
        "\n",
        "print('B = ', Bnp)\n",
        "\n",
        "print(type(Anp))\n",
        "print(type(Bnp))\n",
        "### END CODE HERE ###"
      ],
      "outputs": [
        {
          "output_type": "stream",
          "name": "stdout",
          "text": [
            "A =  [[10 20 30]\n",
            " [ 5 10 15]\n",
            " [ 1  5  8]]\n",
            "B =  [[[ 15  30  45]\n",
            "  [ 20  35  50]\n",
            "  [ 25  40  55]]\n",
            "\n",
            " [[ 60  75  90]\n",
            "  [ 65  80  95]\n",
            "  [ 70  85 100]]\n",
            "\n",
            " [[105 120 135]\n",
            "  [110 125 140]\n",
            "  [115 130 145]]\n",
            "\n",
            " [[150 165 180]\n",
            "  [155 170 185]\n",
            "  [160 175 190]]]\n",
            "<class 'numpy.ndarray'>\n",
            "<class 'numpy.ndarray'>\n"
          ]
        }
      ],
      "metadata": {
        "id": "TjIs628Y51up",
        "colab": {
          "base_uri": "https://localhost:8080/"
        },
        "outputId": "f401281d-51e5-4844-8007-cf4163ff9f50"
      }
    },
    {
      "cell_type": "markdown",
      "source": [
        "## Replacement\n",
        ">Replace the last slice of array B (B[:, :, 3]) with values of A. Then print the result."
      ],
      "metadata": {
        "id": "FnkUQTNY51up"
      }
    },
    {
      "cell_type": "code",
      "execution_count": null,
      "source": [
        "### START CODE HERE ###\n",
        "Bnp[3, :, :] = Anp.copy()\n",
        "print(Bnp)\n",
        "### END CODE HERE ###"
      ],
      "outputs": [
        {
          "output_type": "stream",
          "name": "stdout",
          "text": [
            "[[[ 15  30  45]\n",
            "  [ 20  35  50]\n",
            "  [ 25  40  55]]\n",
            "\n",
            " [[ 60  75  90]\n",
            "  [ 65  80  95]\n",
            "  [ 70  85 100]]\n",
            "\n",
            " [[105 120 135]\n",
            "  [110 125 140]\n",
            "  [115 130 145]]\n",
            "\n",
            " [[ 10  20  30]\n",
            "  [  5  10  15]\n",
            "  [  1   5   8]]]\n"
          ]
        }
      ],
      "metadata": {
        "id": "P8VC57_o51uq",
        "colab": {
          "base_uri": "https://localhost:8080/"
        },
        "outputId": "ee80e5f9-cc4b-4e59-8f3b-2f3f2ac94bd7"
      }
    },
    {
      "cell_type": "markdown",
      "source": [
        "## Axis Swap \n",
        ">Swap the first(B[:, :, 0]) and last(B[:, :, 3]) slice of the array B **only with one line of code**. Then print the result."
      ],
      "metadata": {
        "id": "nZs4P5AZ51uq"
      }
    },
    {
      "cell_type": "code",
      "execution_count": null,
      "source": [
        "### START CODE HERE ###\n",
        "Bnp[3, :, :], Bnp[0, :, :] = Bnp[0, :, :], Bnp[3, :, :].copy()\n",
        "print(Bnp)\n",
        "### END CODE HERE ###"
      ],
      "outputs": [
        {
          "output_type": "stream",
          "name": "stdout",
          "text": [
            "[[[ 10  20  30]\n",
            "  [  5  10  15]\n",
            "  [  1   5   8]]\n",
            "\n",
            " [[ 60  75  90]\n",
            "  [ 65  80  95]\n",
            "  [ 70  85 100]]\n",
            "\n",
            " [[105 120 135]\n",
            "  [110 125 140]\n",
            "  [115 130 145]]\n",
            "\n",
            " [[ 15  30  45]\n",
            "  [ 20  35  50]\n",
            "  [ 25  40  55]]]\n"
          ]
        }
      ],
      "metadata": {
        "id": "WmS33bBl51uq",
        "colab": {
          "base_uri": "https://localhost:8080/"
        },
        "outputId": "7109da19-e7d3-4e0c-8762-cec6eef836b4"
      }
    },
    {
      "cell_type": "markdown",
      "source": [
        "## Transposing \n",
        ">Transpose the array B elements in each slice. Then print the result."
      ],
      "metadata": {
        "id": "220LTscL51uq"
      }
    },
    {
      "cell_type": "code",
      "execution_count": null,
      "source": [
        "### START CODE HERE ###\n",
        "for i in range(0, len(Bnp)):\n",
        "  Bnp[i]  = Bnp[i].transpose()\n",
        "\n",
        "print('B = ', Bnp)\n",
        "### END CODE HERE ###"
      ],
      "outputs": [
        {
          "output_type": "stream",
          "name": "stdout",
          "text": [
            "B =  [[[ 10   5   1]\n",
            "  [ 20  10   5]\n",
            "  [ 30  15   8]]\n",
            "\n",
            " [[ 60  65  70]\n",
            "  [ 75  80  85]\n",
            "  [ 90  95 100]]\n",
            "\n",
            " [[105 110 115]\n",
            "  [120 125 130]\n",
            "  [135 140 145]]\n",
            "\n",
            " [[ 15  20  25]\n",
            "  [ 30  35  40]\n",
            "  [ 45  50  55]]]\n"
          ]
        }
      ],
      "metadata": {
        "id": "aNMAlnaC51uq",
        "colab": {
          "base_uri": "https://localhost:8080/"
        },
        "outputId": "9985208a-c9ff-4b5a-d749-96373ca52b56"
      }
    },
    {
      "cell_type": "markdown",
      "source": [
        "## Matrix Multiplication\n",
        ">Calculate the matrix multiplication of all slices of the array B. \n",
        "(B[:, :, 0] \\* B[:, :, 1] \\* B[:, :, 2] \\* B[:, :, 3]). Then print the result.\n",
        "\n",
        ">**Note**: the result should be a 3\\*3 array. "
      ],
      "metadata": {
        "id": "xYFuQ6_H51uq"
      }
    },
    {
      "cell_type": "code",
      "execution_count": null,
      "source": [
        "### START CODE HERE ###\n",
        "ans = Bnp[0, :, :].dot(Bnp[1, :, :]).dot(Bnp[2, :, :]).dot(Bnp[3, :, :])\n",
        "print(ans)\n",
        "### END CODE HERE ###"
      ],
      "outputs": [
        {
          "output_type": "stream",
          "name": "stdout",
          "text": [
            "[[ 39375000  45851625  52328250]\n",
            " [ 88537500 103100625 117663750]\n",
            " [134437500 156550500 178663500]]\n"
          ]
        }
      ],
      "metadata": {
        "id": "HfQRENtP51uq",
        "colab": {
          "base_uri": "https://localhost:8080/"
        },
        "outputId": "74811e48-2349-4d24-bb66-329ea5bbd0c6"
      }
    },
    {
      "cell_type": "markdown",
      "source": [
        "## Determinant\n",
        ">Calculate the determinant of the array A and print it."
      ],
      "metadata": {
        "id": "T-aKILXl51uq"
      }
    },
    {
      "cell_type": "code",
      "execution_count": null,
      "source": [
        "### START CODE HERE ###\n",
        "det = numpy.linalg.det(Anp)\n",
        "print(det)\n",
        "### END CODE HERE ###"
      ],
      "outputs": [
        {
          "output_type": "stream",
          "name": "stdout",
          "text": [
            "0.0\n"
          ]
        }
      ],
      "metadata": {
        "id": "IuIyFxIb51ur",
        "colab": {
          "base_uri": "https://localhost:8080/"
        },
        "outputId": "3dffb726-4c32-4eab-8b4f-783022a92255"
      }
    },
    {
      "cell_type": "markdown",
      "source": [
        "# Question 2"
      ],
      "metadata": {
        "id": "dUxqZ--i51ur"
      }
    },
    {
      "cell_type": "markdown",
      "source": [
        "## Loading dataset\n",
        ">Load the IMDB-Movie-Data.csv file into a pandas dataframe and show its first 5 rows. Each row of this dataframe corresponds to one film."
      ],
      "metadata": {
        "id": "tVorf1Zj51ur"
      }
    },
    {
      "cell_type": "code",
      "execution_count": null,
      "source": [
        "### START CODE HERE ###\n",
        "drive.mount('/content/drive', force_remount=True)\n",
        "films = pandas.read_csv('/content/drive/MyDrive/IMDB-Movie-Data.csv')\n",
        "#films = pandas.read_csv('IMDB-Movie-Data.csv')\n",
        "films.head(5)\n",
        "### END CODE HERE ###"
      ],
      "outputs": [
        {
          "output_type": "stream",
          "name": "stdout",
          "text": [
            "Mounted at /content/drive\n"
          ]
        },
        {
          "output_type": "execute_result",
          "data": {
            "text/plain": [
              "   Rank                    Title                     Genre  \\\n",
              "0     1  Guardians of the Galaxy   Action,Adventure,Sci-Fi   \n",
              "1     2               Prometheus  Adventure,Mystery,Sci-Fi   \n",
              "2     3                    Split           Horror,Thriller   \n",
              "3     4                     Sing   Animation,Comedy,Family   \n",
              "4     5            Suicide Squad  Action,Adventure,Fantasy   \n",
              "\n",
              "                                         Description              Director  \\\n",
              "0  A group of intergalactic criminals are forced ...            James Gunn   \n",
              "1  Following clues to the origin of mankind, a te...          Ridley Scott   \n",
              "2  Three girls are kidnapped by a man with a diag...    M. Night Shyamalan   \n",
              "3  In a city of humanoid animals, a hustling thea...  Christophe Lourdelet   \n",
              "4  A secret government agency recruits some of th...            David Ayer   \n",
              "\n",
              "                                              Actors  Year  Runtime (Minutes)  \\\n",
              "0  Chris Pratt, Vin Diesel, Bradley Cooper, Zoe S...  2014                121   \n",
              "1  Noomi Rapace, Logan Marshall-Green, Michael Fa...  2012                124   \n",
              "2  James McAvoy, Anya Taylor-Joy, Haley Lu Richar...  2016                117   \n",
              "3  Matthew McConaughey,Reese Witherspoon, Seth Ma...  2016                108   \n",
              "4  Will Smith, Jared Leto, Margot Robbie, Viola D...  2016                123   \n",
              "\n",
              "   Rating   Votes  Revenue (Millions)  Metascore  \n",
              "0     8.1  757074              333.13       76.0  \n",
              "1     7.0  485820              126.46       65.0  \n",
              "2     7.3  157606              138.12       62.0  \n",
              "3     7.2   60545              270.32       59.0  \n",
              "4     6.2  393727              325.02       40.0  "
            ],
            "text/html": [
              "\n",
              "  <div id=\"df-54ded1ba-4614-49b2-918d-456a12aa18ea\">\n",
              "    <div class=\"colab-df-container\">\n",
              "      <div>\n",
              "<style scoped>\n",
              "    .dataframe tbody tr th:only-of-type {\n",
              "        vertical-align: middle;\n",
              "    }\n",
              "\n",
              "    .dataframe tbody tr th {\n",
              "        vertical-align: top;\n",
              "    }\n",
              "\n",
              "    .dataframe thead th {\n",
              "        text-align: right;\n",
              "    }\n",
              "</style>\n",
              "<table border=\"1\" class=\"dataframe\">\n",
              "  <thead>\n",
              "    <tr style=\"text-align: right;\">\n",
              "      <th></th>\n",
              "      <th>Rank</th>\n",
              "      <th>Title</th>\n",
              "      <th>Genre</th>\n",
              "      <th>Description</th>\n",
              "      <th>Director</th>\n",
              "      <th>Actors</th>\n",
              "      <th>Year</th>\n",
              "      <th>Runtime (Minutes)</th>\n",
              "      <th>Rating</th>\n",
              "      <th>Votes</th>\n",
              "      <th>Revenue (Millions)</th>\n",
              "      <th>Metascore</th>\n",
              "    </tr>\n",
              "  </thead>\n",
              "  <tbody>\n",
              "    <tr>\n",
              "      <th>0</th>\n",
              "      <td>1</td>\n",
              "      <td>Guardians of the Galaxy</td>\n",
              "      <td>Action,Adventure,Sci-Fi</td>\n",
              "      <td>A group of intergalactic criminals are forced ...</td>\n",
              "      <td>James Gunn</td>\n",
              "      <td>Chris Pratt, Vin Diesel, Bradley Cooper, Zoe S...</td>\n",
              "      <td>2014</td>\n",
              "      <td>121</td>\n",
              "      <td>8.1</td>\n",
              "      <td>757074</td>\n",
              "      <td>333.13</td>\n",
              "      <td>76.0</td>\n",
              "    </tr>\n",
              "    <tr>\n",
              "      <th>1</th>\n",
              "      <td>2</td>\n",
              "      <td>Prometheus</td>\n",
              "      <td>Adventure,Mystery,Sci-Fi</td>\n",
              "      <td>Following clues to the origin of mankind, a te...</td>\n",
              "      <td>Ridley Scott</td>\n",
              "      <td>Noomi Rapace, Logan Marshall-Green, Michael Fa...</td>\n",
              "      <td>2012</td>\n",
              "      <td>124</td>\n",
              "      <td>7.0</td>\n",
              "      <td>485820</td>\n",
              "      <td>126.46</td>\n",
              "      <td>65.0</td>\n",
              "    </tr>\n",
              "    <tr>\n",
              "      <th>2</th>\n",
              "      <td>3</td>\n",
              "      <td>Split</td>\n",
              "      <td>Horror,Thriller</td>\n",
              "      <td>Three girls are kidnapped by a man with a diag...</td>\n",
              "      <td>M. Night Shyamalan</td>\n",
              "      <td>James McAvoy, Anya Taylor-Joy, Haley Lu Richar...</td>\n",
              "      <td>2016</td>\n",
              "      <td>117</td>\n",
              "      <td>7.3</td>\n",
              "      <td>157606</td>\n",
              "      <td>138.12</td>\n",
              "      <td>62.0</td>\n",
              "    </tr>\n",
              "    <tr>\n",
              "      <th>3</th>\n",
              "      <td>4</td>\n",
              "      <td>Sing</td>\n",
              "      <td>Animation,Comedy,Family</td>\n",
              "      <td>In a city of humanoid animals, a hustling thea...</td>\n",
              "      <td>Christophe Lourdelet</td>\n",
              "      <td>Matthew McConaughey,Reese Witherspoon, Seth Ma...</td>\n",
              "      <td>2016</td>\n",
              "      <td>108</td>\n",
              "      <td>7.2</td>\n",
              "      <td>60545</td>\n",
              "      <td>270.32</td>\n",
              "      <td>59.0</td>\n",
              "    </tr>\n",
              "    <tr>\n",
              "      <th>4</th>\n",
              "      <td>5</td>\n",
              "      <td>Suicide Squad</td>\n",
              "      <td>Action,Adventure,Fantasy</td>\n",
              "      <td>A secret government agency recruits some of th...</td>\n",
              "      <td>David Ayer</td>\n",
              "      <td>Will Smith, Jared Leto, Margot Robbie, Viola D...</td>\n",
              "      <td>2016</td>\n",
              "      <td>123</td>\n",
              "      <td>6.2</td>\n",
              "      <td>393727</td>\n",
              "      <td>325.02</td>\n",
              "      <td>40.0</td>\n",
              "    </tr>\n",
              "  </tbody>\n",
              "</table>\n",
              "</div>\n",
              "      <button class=\"colab-df-convert\" onclick=\"convertToInteractive('df-54ded1ba-4614-49b2-918d-456a12aa18ea')\"\n",
              "              title=\"Convert this dataframe to an interactive table.\"\n",
              "              style=\"display:none;\">\n",
              "        \n",
              "  <svg xmlns=\"http://www.w3.org/2000/svg\" height=\"24px\"viewBox=\"0 0 24 24\"\n",
              "       width=\"24px\">\n",
              "    <path d=\"M0 0h24v24H0V0z\" fill=\"none\"/>\n",
              "    <path d=\"M18.56 5.44l.94 2.06.94-2.06 2.06-.94-2.06-.94-.94-2.06-.94 2.06-2.06.94zm-11 1L8.5 8.5l.94-2.06 2.06-.94-2.06-.94L8.5 2.5l-.94 2.06-2.06.94zm10 10l.94 2.06.94-2.06 2.06-.94-2.06-.94-.94-2.06-.94 2.06-2.06.94z\"/><path d=\"M17.41 7.96l-1.37-1.37c-.4-.4-.92-.59-1.43-.59-.52 0-1.04.2-1.43.59L10.3 9.45l-7.72 7.72c-.78.78-.78 2.05 0 2.83L4 21.41c.39.39.9.59 1.41.59.51 0 1.02-.2 1.41-.59l7.78-7.78 2.81-2.81c.8-.78.8-2.07 0-2.86zM5.41 20L4 18.59l7.72-7.72 1.47 1.35L5.41 20z\"/>\n",
              "  </svg>\n",
              "      </button>\n",
              "      \n",
              "  <style>\n",
              "    .colab-df-container {\n",
              "      display:flex;\n",
              "      flex-wrap:wrap;\n",
              "      gap: 12px;\n",
              "    }\n",
              "\n",
              "    .colab-df-convert {\n",
              "      background-color: #E8F0FE;\n",
              "      border: none;\n",
              "      border-radius: 50%;\n",
              "      cursor: pointer;\n",
              "      display: none;\n",
              "      fill: #1967D2;\n",
              "      height: 32px;\n",
              "      padding: 0 0 0 0;\n",
              "      width: 32px;\n",
              "    }\n",
              "\n",
              "    .colab-df-convert:hover {\n",
              "      background-color: #E2EBFA;\n",
              "      box-shadow: 0px 1px 2px rgba(60, 64, 67, 0.3), 0px 1px 3px 1px rgba(60, 64, 67, 0.15);\n",
              "      fill: #174EA6;\n",
              "    }\n",
              "\n",
              "    [theme=dark] .colab-df-convert {\n",
              "      background-color: #3B4455;\n",
              "      fill: #D2E3FC;\n",
              "    }\n",
              "\n",
              "    [theme=dark] .colab-df-convert:hover {\n",
              "      background-color: #434B5C;\n",
              "      box-shadow: 0px 1px 3px 1px rgba(0, 0, 0, 0.15);\n",
              "      filter: drop-shadow(0px 1px 2px rgba(0, 0, 0, 0.3));\n",
              "      fill: #FFFFFF;\n",
              "    }\n",
              "  </style>\n",
              "\n",
              "      <script>\n",
              "        const buttonEl =\n",
              "          document.querySelector('#df-54ded1ba-4614-49b2-918d-456a12aa18ea button.colab-df-convert');\n",
              "        buttonEl.style.display =\n",
              "          google.colab.kernel.accessAllowed ? 'block' : 'none';\n",
              "\n",
              "        async function convertToInteractive(key) {\n",
              "          const element = document.querySelector('#df-54ded1ba-4614-49b2-918d-456a12aa18ea');\n",
              "          const dataTable =\n",
              "            await google.colab.kernel.invokeFunction('convertToInteractive',\n",
              "                                                     [key], {});\n",
              "          if (!dataTable) return;\n",
              "\n",
              "          const docLinkHtml = 'Like what you see? Visit the ' +\n",
              "            '<a target=\"_blank\" href=https://colab.research.google.com/notebooks/data_table.ipynb>data table notebook</a>'\n",
              "            + ' to learn more about interactive tables.';\n",
              "          element.innerHTML = '';\n",
              "          dataTable['output_type'] = 'display_data';\n",
              "          await google.colab.output.renderOutput(dataTable, element);\n",
              "          const docLink = document.createElement('div');\n",
              "          docLink.innerHTML = docLinkHtml;\n",
              "          element.appendChild(docLink);\n",
              "        }\n",
              "      </script>\n",
              "    </div>\n",
              "  </div>\n",
              "  "
            ]
          },
          "metadata": {},
          "execution_count": 3
        }
      ],
      "metadata": {
        "id": "dIsa36yi51ur",
        "colab": {
          "base_uri": "https://localhost:8080/",
          "height": 462
        },
        "outputId": "25bf2c53-0cb7-4316-fad6-a364f5cf5dcd"
      }
    },
    {
      "cell_type": "code",
      "source": [],
      "metadata": {
        "id": "b57zqEchuKVU"
      },
      "execution_count": null,
      "outputs": []
    },
    {
      "cell_type": "markdown",
      "source": [
        "## Actors/Actresses Activity\n",
        ">For each Actors/Actresses caculate the number of movies in the dataframe, then sort the actors/actresses first by their number of movies in descending order and then by their name in ascending order. "
      ],
      "metadata": {
        "id": "pgDvllsV51ur"
      }
    },
    {
      "cell_type": "code",
      "execution_count": null,
      "source": [
        "### START CODE HERE ###\n",
        "myDict = {}\n",
        "actorList = []\n",
        "namedActors = []\n",
        "for i in range(0,len(films)):\n",
        "  for name in films.loc[i, 'Actors'].split(','):\n",
        "    name = name.translate({32: ''})  #becouse some strinngs dont have sapace after , (TA said its ok!)\n",
        "    actorList.append(name)\n",
        "for actor in actorList:\n",
        "  if actor not in namedActors:\n",
        "    myDict[actor] = actorList.count(actor)\n",
        "    namedActors.append(actor)\n",
        "print(sorted(myDict.items(), reverse = True))\n",
        "print(sorted(myDict.items(), key = lambda item: item[1]))\n",
        "### END CODE HERE ###"
      ],
      "outputs": [
        {
          "output_type": "stream",
          "name": "stdout",
          "text": [
            "[('ÓscarJaenada', 1), ('ÓlafurDarriÓlafsson', 1), ('ÉmilieLeclerc', 1), ('ZoëKravitz', 2), ('ZoëBell', 2), ('ZooeyDeschanel', 4), ('ZoeyDeutch', 6), ('ZoeSaldana', 6), ('ZoeKazan', 1), ('ZacheryTyBryan', 1), ('ZacharyQuinto', 4), ('ZacharyLevi', 1), ('ZacharyGordon', 3), ('ZacharyBennett', 1), ('ZachGrenier', 1), ('ZachGalifianakis', 4), (\"ZacMattoonO'Brien\", 1), ('ZacEfron', 8), ('YutakaTakenouchi', 1), ('Yun-FatChow', 1), ('Yu-miJung', 1), ('YooGong', 2), ('XavierSamuel', 4), ('WyattRussell', 1), ('WoodyHarrelson', 9), ('WoodyAllen', 1), ('Woo-heeChun', 1), ('WinonaRyder', 1), ('WilliamMoseley', 1), ('WilliamHurt', 2), ('WilliamFichtner', 3), ('WilliamAtherton', 1), ('WillemDafoe', 6), ('WillYunLee', 1), ('WillSmith', 10), ('WillPoulter', 2), ('WillFerrell', 8), ('WillDalton', 1), ('WillArnett', 3), ('WesleyElder', 1), ('WesBentley', 2), ('WernerHerzog', 1), ('WenwenHan', 1), ('WentworthMiller', 2), ('WendyCrewson', 1), ('WendiMcLendon-Covey', 2), ('WeiTang', 1), ('WardHorton', 1), ('WaltonGoggins', 1), ('ViolaDavis', 7), ('VinnieJones', 2), ('VingRhames', 2), ('VincentKartheiser', 1), ('VincentEbrahim', 1), (\"VincentD'Onofrio\", 3), ('VincentCassel', 5), ('VinceVaughn', 4), ('VinDiesel', 7), ('VilenBabichev', 1), ('ViggoMortensen', 3), ('VictoriaJustice', 1), ('VickyKrieps', 1), ('VernettaLopez', 1), ('VeraFarmiga', 6), ('VanessaRoss', 1), ('VanessaLachey', 1), ('VanessaHudgens', 2), ('VanessaFerlito', 1), ('ValerieMahaffey', 1), ('ValKilmer', 1), ('UsherRaymond', 1), ('UlrichTukur', 1), ('UlrichMühe', 1), ('TyreseGibson', 4), ('TyneDaly', 1), ('TylerPerry', 2), ('TylerJamesWilliams', 1), ('TylerHoechlin', 1), ('TyeSheridan', 3), ('TySimpkins', 2), ('TreySongz', 1), ('TrentonRogers', 1), ('TravisTope', 1), ('TravisFimmel', 1), ('TracyLetts', 2), ('TopherGrace', 3), ('TonyShalhoub', 2), ('TonyRevolori', 2), ('TonyGoldwyn', 1), ('TonyDanza', 1), ('TonyAmendola', 1), ('ToniCollette', 2), ('TommyLeeJones', 4), ('TommyDewey', 1), ('TomWilkinson', 4), ('TomSizemore', 1), ('TomPrior', 1), ('TomMison', 1), ('TomHughes', 1), ('TomHudson', 1), ('TomHolland', 2), ('TomHiddleston', 4), ('TomHardy', 12), ('TomHanks', 9), ('TomFelton', 1), ('TomCullen', 1), ('TomCruise', 8), ('TomCostello', 1), ('TobyKebbell', 2), ('TobyJones', 1), ('TobiasMenzies', 1), ('TobeyMaguire', 2), ('TinaFey', 3), ('TimothySpall', 2), ('TimothyOlyphant', 2), ('TimRoth', 5), ('TimPigott-Smith', 1), ('TimMcGraw', 1), ('TimBlakeNelson', 1), ('TimAllen', 1), ('TildaSwinton', 4), ('TilSchweiger', 1), ('TijuanaRicks', 1), ('TiffanyHaddish', 1), ('TianJing', 1), ('ThomasMiddleditch', 1), ('ThomasMann', 2), ('ThomasM.Wright', 1), ('ThomasLoibl', 1), ('ThomasLennon', 2), ('ThomasJane', 3), ('ThomasHadenChurch', 3), ('ThomasBrodie-Sangster', 2), ('ThomasBoLarsen', 1), ('TheoRossi', 1), ('TheoJames', 6), ('ThandieNewton', 4), ('TeyonahParris', 1), ('TessaThompson', 3), ('TerryCrews', 3), ('TerryChen', 1), ('TerrenceHoward', 2), ('TeriHatcher', 1), ('TeresaPalmer', 7), ('TeresaNavarro', 1), ('TerenceStamp', 1), ('TeodoraDuhovnikova', 1), ('TemueraMorrison', 1), ('TedLevine', 1), ('TaylorSwift', 1), ('TaylorSchilling', 1), ('TaylorLautner', 4), ('TaylorKitsch', 3), ('TatianaPauhofová', 1), ('TaronEgerton', 3), ('TaranehAlidoosti', 1), ('TarajiP.Henson', 2), ('TaoOkamoto', 1), ('TaniaRaymonde', 1), ('TangieAmbrose', 1), ('TanayChheda', 1), ('TammyBlanchard', 1), ('TamannaahBhatia', 1), ('TaissaFarmiga', 1), ('TaikaWaititi', 1), ('TadanobuAsano', 1), ('Tabu', 1), ('T.R.Knight', 1), ('T.J.Miller', 6), ('T.I.', 1), ('SylviaHoeks', 1), ('SylvesterStallone', 7), ('SuzanneClément', 1), ('SusiePorter', 1), ('SusanSarandon', 2), ('SusanLoughnane', 1), ('SurajSharma', 1), ('SunnyPawar', 1), ('SullivanStapleton', 1), ('SueDahlman', 1), ('SuElliot', 1), ('StuartGraham', 1), ('StormReid', 1), ('StormAchecheSahlstrøm', 1), ('StevenYeun', 1), ('StevenPasquale', 1), ('StevenMackintosh', 1), ('StevenKrueger', 1), ('SteveZahn', 4), ('SteveWiebe', 1), ('SteveTom', 1), ('SteveOram', 1), ('SteveMartin', 1), ('SteveLantz', 1), ('SteveCoogan', 1), ('SteveCarell', 7), ('SteveBuscemi', 1), ('StephenRea', 1), ('StephenMoyer', 1), ('StephenMerchant', 1), ('StephenLang', 2), ('StephenHenderson', 1), ('StephenDorff', 1), ('StephenCurry', 1), ('StellanSkarsgård', 5), ('SteeleStebbins', 1), ('StanleyTucci', 2), ('StacyMartin', 1), (\"Srdjan'Zika'Todorovic\", 1), ('SophiePerry', 1), ('SophieOkonedo', 1), ('SophieNélisse', 1), ('Soo-anKim', 1), ('SonoyaMizuno', 1), ('SoledadVillamil', 1), (\"SofiaBlack-D'Elia\", 1), ('So-riMoon', 1), ('SlobodanBestic', 1), ('SkylerGisondo', 1), ('SixtineMurat', 1), ('SimonaStasová', 1), ('SimonPegg', 7), ('SimonHelberg', 1), ('SimonCotton', 1), ('SigridBouaziz', 1), ('SigourneyWeaver', 5), ('SiennaMiller', 5), ('SiennaGuillory', 2), ('ShoneRomulus', 1), ('ShilohFernandez', 1), ('ShiaLaBeouf', 11), ('SheriMoonZombie', 1), ('ShelleyHennig', 1), ('SheilaKelley', 1), ('SheaAdams', 1), ('ShawnRoberts', 1), ('SharonPercy', 1), ('SharmanJoshi', 1), ('SharltoCopley', 9), ('ShariffEarp', 1), ('ShareekaEpps', 1), ('ShannonWoodward', 1), ('ShameikMoore', 1), ('ShaileneWoodley', 7), ('ShahabHosseini', 1), ('ShahRukhKhan', 1), ('ShadMoss', 1), ('SeychelleGabriel', 1), ('SethRogen', 11), ('SethMacFarlane', 4), ('SergiLópez', 1), ('SergejTrifunovic', 1), ('SelmaBlair', 1), ('SelenaGomez', 3), ('SebastianStan', 1), ('SebastianPigott', 1), ('SebastianKoch', 1), ('SeannWilliamScott', 1), ('SeanPenn', 3), ('SeanPatrickThomas', 1), ('SeanFaris', 1), ('SeanBridgers', 1), ('SeanBott', 1), ('SeanBean', 2), ('ScottSpeedman', 1), ('ScottMescudi', 1), ('ScottLawrence', 1), ('ScottGlenn', 2), ('ScottEastwood', 2), ('ScottAdsit', 1), ('ScottAdkins', 1), ('Scorcher', 1), ('ScarlettJohansson', 12), ('SaurabhShukla', 1), ('SatomiIshihara', 1), ('SashaLane', 1), ('SaritaChoudhury', 1), ('SarahSnook', 1), ('SarahSilverman', 2), ('SarahRoemer', 2), ('SarahPolley', 1), ('SarahPaulson', 1), ('SarahJessicaParker', 2), ('SarahHyland', 1), ('SarahGadon', 4), ('SarahDumont', 1), ('SarahClarke', 1), ('SarahButler', 1), ('SaoriHayami', 1), ('SaoirseRonan', 5), ('SanyaMalhotra', 1), ('SanjeevBhaskar', 1), ('SanjayDutt', 1), ('SandraKinder', 1), ('SandraHüller', 1), ('SandraBullock', 5), ('SamuelL.Jackson', 9), ('SamanthaSloyan', 1), ('SamanthaRobinson', 1), ('SamanthaMorton', 1), ('SamanthaIsler', 1), ('SamWorthington', 6), ('SamTrammell', 1), ('SamShepard', 1), ('SamRockwell', 3), ('SamRiley', 1), ('SamQuartin', 1), ('SamNeill', 2), ('SamElliott', 1), ('SamClaflin', 4), ('SalmaHayek', 2), ('SallyPhillips', 1), ('SallyHawkins', 2), ('SallyField', 2), ('SalliRichardson-Whitfield', 1), ('SalimKechiouche', 1), ('SakshiTanwar', 1), ('SachetEngineer', 1), ('SachaBaronCohen', 3), ('RyûnosukeKamiki', 1), ('RyôNarita', 1), ('RyokoSeta', 1), ('RyanReynolds', 7), ('RyanPotter', 1), ('RyanLee', 1), ('RyanGuzman', 2), ('RyanGosling', 10), ('RuthWilson', 2), ('RuthNegga', 1), ('RutaGedmintas', 1), ('RussellCrowe', 7), ('RussellBrand', 1), ('RupertGrint', 4), ('RupertFriend', 1), ('RupertEvans', 1), ('RufusSewell', 1), ('RudyYoungblood', 1), ('RubénBlades', 1), ('RubyBarnhill', 1), ('Rotimi', 1), ('RostislavBershauer', 1), ('RossKimball', 1), ('RosieShaw', 1), ('RosieHuntington-Whiteley', 1), ('RosemarieDeWitt', 1), ('RoseMcGowan', 3), ('RoseLeslie', 2), ('RoseByrne', 9), ('RosarioDawson', 6), ('RosamundPike', 6), ('RoryJ.Saper', 1), ('RoryCochrane', 1), ('RooneyMara', 7), ('RonnieGeneBlevins', 2), ('RonPerlman', 5), ('RonLivingston', 1), ('RomanKolinka', 1), ('RomanJossart', 1), ('RomainDuris', 1), ('RolfLassgård', 1), ('RogerBart', 1), ('RodrigoSantoro', 2), ('RobinWright', 3), ('RobinWilliams', 2), ('RobertToupin', 1), ('RobertSheehan', 1), ('RobertRedford', 2), ('RobertPattinson', 6), ('RobertPatrick', 2), ('RobertKnepper', 1), ('RobertHoffman', 1), ('RobertDuvall', 2), ('RobertDowneyJr.', 12), ('RobertDeNiro', 8), ('RobertCarlyle', 1), ('RobertCapron', 3), ('RobbieAmell', 2), ('RobRiggle', 2), ('RobCorddry', 1), ('RizwanManji', 1), ('RizAhmed', 2), ('RitaCortese', 1), ('RipTorn', 1), ('RinkoKikuchi', 1), ('RimaTeWiata', 1), ('RileyThomasStewart', 1), ('RileyKeough', 2), ('RilaFukushima', 1), ('Rihanna', 2), ('RickGonzalez', 1), ('RichendaCarey', 1), ('RichardMadden', 2), ('RichardKind', 1), ('RichardJenkins', 5), ('RichardGere', 3), ('RichardGarcia', 1), ('RichardDreyfuss', 2), ('RichardBrake', 1), ('RichardArmitage', 3), ('RiccardoScamarcio', 1), ('RicardoDarín', 1), ('RhysIfans', 1), ('RhonaMitra', 2), ('RenéeZellweger', 2), ('RenÔsugi', 1), ('ReneRusso', 2), ('ReikoAylesworth', 1), ('ReginaHall', 1), ('ReeseWitherspoon', 4), ('RebelWilson', 4), ('RebeccaHall', 6), ('RebeccaFerguson', 3), ('RayWinstone', 3), ('RayStevenson', 2), ('RayRomano', 1), ('RasmusHardiker', 1), ('RaoulMaxTrujillo', 1), ('RandyCouture', 1), ('RandallPark', 1), ('RanaDaggubati', 1), ('RalphIneson', 1), ('RalphFiennes', 7), ('RainnWilson', 1), ('RaghuvirJoshi', 1), ('RaffeyCassidy', 1), ('RadhaMitchell', 1), ('RachelWood', 1), ('RachelWeisz', 8), ('RachelQuinn', 1), ('RachelMcAdams', 7), ('RachelKorine', 1), ('RachelHouse', 2), ('RachelDratch', 1), ('RachelBlanchard', 1), ('RachelBilson', 1), ('RachaelHarris', 2), ('RachaelBlake', 1), ('RabahNaitOufella', 1), ('RJCyler', 1), ('QuvenzhanéWallis', 1), ('QuintonAaron', 1), ('QueenLatifah', 1), ('PriyankaMoodley', 1), ('Prabhas', 1), ('PortiaDoubleday', 1), ('PierreRichard', 1), ('PierreNiney', 2), ('PierreCoffin', 1), ('PierceBrosnan', 4), ('PhyliciaRashad', 1), ('PhilipSeymourHoffman', 4), ('PeytonList', 1), ('PeterStormare', 2), ('PeterSimonischek', 1), ('PeterSarsgaard', 4), ('PeterRiegert', 1), ('PeterMcRobbie', 1), ('PeterFacinelli', 1), ('PeterDinklage', 2), ('PenélopeCruz', 4), ('PennBadgley', 1), ('PenelopeWilton', 1), ('PaulinJaccoud', 1), ('PaulaPrentiss', 1), ('PaulaPatton', 5), ('PaulaBeer', 1), ('PaulWalker', 4), ('PaulSidhu', 1), ('PaulRudd', 5), ('PaulReiser', 1), ('PaulNewman', 1), ('PaulGiamatti', 3), ('PaulDano', 3), ('PaulBorghese', 1), ('PaulBirchard', 1), ('PaulBettany', 1), ('PaulAnderson', 1), ('PattonOswalt', 1), ('PatrickWilson', 7), ('PatrickStewart', 3), ('PatrickHuard', 1), ('PatrickDempsey', 2), ('PatriciaClarkson', 2), ('PatriciaArquette', 1), ('PatCashman', 1), ('PaddyConsidine', 1), ('PabloSchreiber', 1), ('PabloRago', 1), ('OwenWilson', 9), ('OsricChau', 1), ('OscarIsaac', 3), ('OrtoIgnatiussen', 1), ('OrlandoBloom', 2), ('OprahWinfrey', 2), ('OpheliaLovibond', 1), ('OonaLaurence', 2), ('OonaChaplin', 1), ('OmarSy', 2), ('OliviaWilliams', 1), ('OliviaWilde', 3), ('OliviaThirlby', 2), ('OliviaMunn', 2), ('OliviaMoyles', 1), ('OliviaLuccardi', 1), ('OliviaDeJonge', 1), ('OliviaCooke', 1), ('OliviaColman', 2), ('OliverPlatt', 3), ('OliverCooper', 1), ('OlgaKurylenko', 3), ('OlanRogers', 1), ('OdeyaRush', 1), ('OctaviaSpencer', 2), ('OakleePendergast', 1), ('OakesFegley', 1), (\"O'SheaJacksonJr.\", 1), ('NoomiRapace', 5), ('NoelFisher', 1), ('NoahWiseman', 1), ('NoahTaylor', 1), ('NoahRinger', 1), ('NinaDobrev', 1), ('NikolajCoster-Waldau', 3), ('NikoNicotera', 1), ('NikkiSooHoo', 1), ('NikkiBlonsky', 1), ('NicoleParker', 1), ('NicoleKidman', 6), ('NicoleBeharie', 1), ('NicolasCage', 3), ('NicolaPeltz', 2), ('NickSwardson', 1), ('NickRobinson', 1), ('NickOfferman', 4), ('NickNolte', 1), ('NickKrause', 1), ('NickFrost', 3), ('NickDamici', 2), ('NicholasHoult', 6), ('NicholasHope', 1), ('NicholasGalitzine', 1), (\"NicholasD'Agosto\", 1), ('NicholasBrendon', 1), ('NicholasBraun', 1), ('NiaVardalos', 1), ('NiNi', 1), ('NeveCampbell', 1), ('Nellie', 1), ('NeilPatrickHarris', 1), ('NeilFlynn', 1), ('NeilBrownJr.', 1), ('NeelSethi', 1), ('NedBeatty', 1), ('NazaninBoniadi', 1), ('NathanPhillips', 1), ('NathanFillion', 2), ('NathalieBoltt', 1), ('NathalieBaye', 1), ('NatashaHenstridge', 1), ('NataschaMcElhone', 1), ('NataliePortman', 8), ('NatalieMartinez', 1), ('NatalieKrill', 1), ('NatWolff', 3), ('NaomieHarris', 1), ('NaomiWatts', 9), ('NaomiBattrick', 1), ('NaomiAckie', 1), ('NancyKwan', 1), ('NadineVelazquez', 2), ('NadiaWhite', 1), ('MónicaVilla', 1), ('MélissaDésormeaux-Poulin', 1), ('MélanieLaurent', 2), ('MylèneJampanoï', 1), ('MykeltiWilliamson', 1), ('MustafaKamel', 1), ('MunroChambers', 1), ('MorjanaAlaoui', 1), ('MorganSaylor', 1), ('MorganLily', 1), ('MorganFreeman', 9), ('MorenaBaccarin', 1), ('MoonBloodgood', 1), ('MoneKamishiraishi', 1), ('MonaSingh', 1), ('MomoDione', 1), ('MollyRingwald', 1), ('MoisésAcevedo', 1), ('MoisesArias', 1), ('MohamedAkhzam', 1), ('MoeDunford', 1), (\"Mo'Nique\", 1), ('MiyuIrino', 1), ('Miyavi', 1), ('MireilleEnos', 2), ('MirandaCosgrove', 1), ('MiraSorvino', 1), ('MindyKaling', 1), ('Min-sikChoi', 1), ('Min-heeKim', 1), ('MiloVentimiglia', 1), ('MillaJovovich', 4), ('MilesTeller', 6), ('MilesHeizer', 1), ('MilesFisher', 2), ('MilaKunis', 8), ('MikeVogel', 2), ('MikeBirbiglia', 2), ('MickeyRourke', 3), ('MichielHuisman', 3), ('MichelleYeoh', 3), ('MichelleWilliams', 4), ('MichelleRodriguez', 5), ('MichellePfeiffer', 3), ('MichelleMonaghan', 8), ('MicheleValley', 1), ('MichelVuillermoz', 1), ('MichalVondel', 1), ('MichaelYare', 1), ('MichaelWittenborn', 1), ('MichaelVartan', 1), ('MichaelTrucco', 1), ('MichaelStuhlbarg', 2), ('MichaelSheen', 3), ('MichaelShannon', 3), ('MichaelRooker', 1), ('MichaelPitt', 2), ('MichaelPeña', 5), ('MichaelParks', 2), ('MichaelNyqvist', 3), ('MichaelMcElhatton', 2), ('MichaelMcDonald', 1), ('MichaelMantell', 1), ('MichaelKennethWilliams', 1), ('MichaelKelly', 1), ('MichaelKeaton', 5), ('MichaelIronside', 1), ('MichaelGambon', 2), ('MichaelFassbender', 12), ('MichaelEaly', 2), ('MichaelDouglas', 1), ('MichaelDorman', 1), ('MichaelDoneger', 1), ('MichaelDickson', 1), ('MichaelConstantine', 1), ('MichaelChiklis', 2), ('MichaelCera', 3), ('MichaelCaine', 6), ('MichaelC.Hall', 1), ('MichaelB.Jordan', 3), ('MiaWasikowska', 4), ('MiaStallard', 1), ('MiaGoth', 2), ('MethodMan', 1), ('MerylStreep', 6), ('MeredithHagner', 1), ('MelissaMcCarthy', 4), ('MelissaLeo', 3), ('MelissaGeorge', 1), ('MelissaBenoist', 1), ('MelanieLynskey', 1), ('MelRaido', 1), ('MelGibson', 1), ('MeganPark', 1), ('MeganFox', 5), ('MeganCharpentier', 1), ('MeaganGood', 1), ('McCaulLombardi', 1), ('MaykoNguyen', 1), ('MayaRudolph', 4), ('MaxvonSydow', 1), ('MaximGaudette', 1), ('MaxMinghella', 2), ('MaxMartini', 1), ('MaxIrons', 1), ('MaxGreenfield', 1), ('MaxBurkholder', 1), ('MaurySterling', 1), ('MauricioLopez', 1), ('MaudeApatow', 1), ('MatthiasSchoenaerts', 2), ('MatthewZuk', 1), ('MatthewPerry', 1), ('MatthewMorrison', 1), ('MatthewMcConaughey', 10), ('MatthewMarsden', 1), ('MatthewMacfadyen', 3), ('MatthewGoode', 2), ('MatthewFox', 1), ('MatthewBohrer', 1), ('MattVael', 1), ('MattLong', 1), ('MattLanter', 2), ('MattDamon', 10), ('MattBomer', 2), ('MathieuAmalric', 2), ('MateoArias', 1), ('MasonLee', 1), ('MaríaMarull', 1), ('MarySteenburgen', 2), ('MaryMcCormack', 1), ('MaryElizabethWinstead', 3), ('Mary-LouiseParker', 2), ('MartonCsokas', 2), ('MartinaGedeck', 1), ('MartinStringer', 1), ('MartinMcCann', 1), ('MartinKabanza', 1), ('MartinHenderson', 2), ('MartinFreeman', 6), ('MarlonWayans', 1), ('MarleyShelton', 1), ('MarkWahlberg', 15), ('MarkStrong', 8), ('MarkRylance', 2), ('MarkRuffalo', 7), ('MarkHuberman', 1), ('MarkConsuelos', 1), ('MarkChao', 1), ('MarkBooneJunior', 1), ('MarisaParedes', 1), ('MarionCotillard', 5), ('MarioCasas', 1), ('MarilynManson', 1), ('MarieGruber', 1), ('MaribelVerdú', 1), ('MariahCarey', 1), ('MariaDoyleKennedy', 1), ('MariaDizzia', 1), ('MariaBello', 3), ('Maria-VictoriaDragus', 1), ('MargotRobbie', 5), ('MargaritaLevieva', 1), ('MarcoGiallini', 1), ('MarciaGayHarden', 2), ('MandyMoore', 1), ('MandyGonzalez', 1), ('MalinaManovici', 1), ('MalinAkerman', 4), ('MalcolmSinclair', 1), ('MalcolmMcDowell', 1), ('MaikaMonroe', 3), ('MahershalaAli', 2), ('MaggieQ', 1), ('MaggieGyllenhaal', 1), ('MaggieGrace', 4), ('MaeWhitman', 1), ('MadsMikkelsen', 1), ('MadisonWolfe', 1), ('MadinaNalwanga', 1), ('Madhavan', 1), ('MadeleineWest', 1), ('MaddyCurley', 1), ('MaddieZiegler', 1), ('MackenzieFoy', 1), ('LéaSeydoux', 3), ('LynseyTaylorMackay', 1), ('LynnCollins', 1), ('LyndsyFonseca', 1), ('LydiaWilson', 1), (\"LupitaNyong'o\", 1), ('LuluWilson', 1), ('LukeWilson', 2), ('LukeTreadaway', 1), ('LukeKleintank', 1), ('LukeEvans', 2), ('LukeBracey', 3), ('LukasHassel', 1), ('LuingAndrews', 1), ('LucyWalters', 1), ('LucyLiu', 1), ('LucyHale', 1), ('LucyFry', 1), ('LucyBoynton', 2), ('LucasTill', 2), ('LucasHedges', 1), ('LucasBlack', 2), ('LubnaAzabal', 1), ('LoïsvanWijk', 1), ('LouisC.K.', 1), ('LouTaylorPucci', 1), ('LouRomano', 1), ('LorraineToussaint', 1), ('LorraineNicholson', 1), ('LoriPetty', 1), ('LorenzaIzzo', 2), ('LoganPaul', 1), ('LoganMiller', 1), ('LoganMarshall-Green', 2), ('LoganLerman', 6), ('LoganHuffman', 1), ('LizzyCaplan', 2), ('LivTyler', 3), ('LisaThoreson', 1), ('LisaKudrow', 2), ('LiorAshkenazi', 1), ('LinhDanPham', 1), ('LindaGegusch', 1), ('LindaCardellini', 2), ('LinShaye', 2), ('LilyRabe', 1), ('LilyJames', 3), ('LilyCollins', 3), ('LilyCole', 1), ('Lily-RoseDepp', 1), ('LiliTaylor', 1), ('LiliSepe', 1), ('LievSchreiber', 5), ('LianaLiberato', 2), ('LiamNeeson', 10), ('LiamMcMahon', 1), ('LiamHemsworth', 7), ('LiaMarieJohnson', 2), ('LiaBugnar', 1), ('LewisMacDougall', 1), ('LewisBlack', 2), ('LeviMiller', 1), ('LeslieMann', 6), ('LeslieJones', 1), ('LeslieBibb', 2), ('LesleyManville', 1), ('LeonardoDiCaprio', 10), ('LeonardNimoy', 1), ('LenaHeadey', 5), ('LenaEndre', 1), ('LelandOrser', 1), ('LeehomWang', 1), ('LeePace', 1), ('LaurieHolden', 2), ('LaurentLucas', 2), ('LaurentLafitte', 1), ('LaurenceLeboeuf', 1), ('LaurenceFishburne', 2), ('LaurenHolly', 1), ('LaurenGraham', 1), ('LaurenGerman', 1), ('LaurenCohan', 1), ('LaurenBirkell', 1), ('LauraWaddell', 1), ('LauraRamsey', 1), ('LauraLinney', 3), ('LauraDern', 3), ('LauraAllen', 1), ('LauraAbramsen', 1), ('LasseFogelstrøm', 1), ('LarsEidinger', 1), ('LarrytheCableGuy', 2), ('LarenzTate', 1), ('LaraPulver', 1), ('LambertWilson', 1), ('LakeBell', 2), ('LainieKazan', 1), ('LaineMegaw', 1), ('KyraSedgwick', 1), ('KylieRogers', 1), ('KyleGallner', 2), ('KyleChandler', 4), ('KurtRussell', 5), ('KurtFuller', 1), ('KunalKapoor', 1), ('KseniaSolo', 1), ('KristinScottThomas', 1), ('KristinDavis', 2), ('KristinChenoweth', 1), ('KristenWiig', 7), ('KristenStewart', 8), ('KristenConnolly', 1), ('KristenBell', 4), ('KofiSiriboe', 1), ('KodiSmit-McPhee', 3), ('KlaraKristin', 1), ('KitHarington', 2), ('KirstenDunst', 5), ('KirbyBlissBlanton', 1), ('KimberlyElise', 1), ('KimUylenbroek', 1), ('KimCoates', 1), ('KimCattrall', 2), ('KierseyClemons', 1), ('KiernanShipka', 1), ('KieranCulkin', 1), ('KieferSutherland', 3), ('KevinSpacey', 4), ('KevinNealon', 1), ('KevinMcKidd', 1), ('KevinLeslie', 1), ('KevinKline', 1), ('KevinJames', 4), ('KevinHart', 3), ('KevinDillon', 1), ('KevinCostner', 5), ('KevinConnolly', 1), ('KevinChamberlin', 1), ('KevinBacon', 2), ('KerryWashington', 1), ('KerryBishé', 2), ('KeriRussell', 3), ('KenshôOno', 1), ('KennyWormald', 1), ('KennethWelsh', 1), ('KennethBranagh', 2), ('KenWatanabe', 3), ('KenStott', 1), ('KelseyGrammer', 1), ('KellyReilly', 1), ('KellyMcGillis', 1), ('KellyMacdonald', 1), ('KellyAdams', 1), ('KelceyWatson', 1), ('KeithDavid', 1), ('KeithCarradine', 1), ('KeiraKnightley', 7), ('KeirGilchrist', 1), ('Keegan-MichaelKey', 2), ('KeanuReeves', 6), ('KayaScodelario', 2), ('KayWhitney', 1), ('KatyBarker', 1), ('KatieHolmes', 1), ('KatieCrown', 1), ('KatieCassidy', 1), ('KatiOutinen', 1), ('KathyBates', 1), ('KathyBaker', 1), ('KathrynHahn', 3), ('KathleenQuinlan', 1), ('KathleenMunroe', 1), ('KatherineWaterston', 2), ('KatherineReis', 1), ('KatherineHeigl', 3), ('KateySagal', 1), ('KateeSackhoff', 2), ('KateWinslet', 7), ('KateUpton', 1), ('KateSiegel', 1), ('KateMcKinnon', 1), ('KateMara', 5), ('KateHudson', 3), ('KateDickie', 1), ('KateBosworth', 3), ('KateBeckinsale', 6), ('KatDennings', 1), ('KarruecheTran', 1), ('KarolinaGruszka', 1), ('KarlUrban', 4), ('KarlMarkovics', 1), ('KarlGlusman', 2), ('KarinKonoval', 1), ('KariMatchett', 1), ('KarenMoskow', 1), ('KarenGillan', 1), ('KarenDisher', 1), ('KarenAllen', 1), ('KarelHermánekJr.', 1), ('KaraHayward', 1), ('Kang-hoSong', 2), ('KaitlinOlson', 1), ('KaiRyssdal', 1), ('KagisoKuypers', 1), ('JustineWaddell', 1), ('JustinTimberlake', 4), ('JustinTheroux', 2), ('JustinLong', 3), ('JustinChon', 1), ('JustinChatwin', 1), ('JustinBartha', 2), ('JusticeSmith', 1), ('JunoTemple', 1), ('Jung-wooHa', 1), ('Jung-minHwang', 1), ('JunKunimura', 1), ('JulietRylance', 1), ('JulieWalters', 1), ('JulieBenz', 1), ('JulieAndrews', 1), ('JulianneMoore', 5), ('JulianneHough', 3), ('JuliannaMargulies', 1), ('JulianVergov', 1), ('JulianRichings', 1), ('JulianDennison', 1), ('JulianBarratt', 1), ('JuliaStiles', 1), ('JuliaRoberts', 3), ('JuliaOrmond', 1), ('JudyGreer', 2), ('JudyDavis', 2), ('JudiDench', 4), ('JudeLaw', 6), ('JudahLewis', 1), ('JuanSaavedra', 1), ('JovanAdepo', 1), ('JoséCoronado', 1), ('JoshuaMcIvor', 1), ('JoshuaLeonard', 1), ('JoshWiggins', 2), ('JoshStewart', 1), ('JoshPeck', 1), ('JoshLucas', 1), ('JoshHutcherson', 6), ('JoshHartnett', 1), ('JoshGad', 2), ('JoshDuhamel', 5), ('JoshBrolin', 10), ('JoshBrener', 1), ('JosephMawle', 1), ('JosephJulianSoria', 1), ('JosephGordon-Levitt', 9), ('JosephFiennes', 1), ('JosefAltin', 1), ('JormaTaccone', 1), ('JorgeGarcia', 1), ('JordiMollà', 1), ('JordanaBrewster', 2), ('JordanPeele', 1), ('JordanNagai', 1), ('JordanCarlos', 1), ('JonnyWeston', 1), ('JonnyBrugh', 1), ('JonathanRoumie', 1), ('JonathanRhysMeyers', 1), ('JonathanGroff', 1), ('JonathanDanielBrown', 1), ('JonahHill', 9), ('JonVoight', 1), ('JonHamm', 3), ('JonFavreau', 3), ('JonDaly', 1), ('JonBernthal', 3), ('JohnnySimmons', 2), ('JohnnyDepp', 12), ('JohnTurturro', 1), ('JohnTravolta', 1), ('JohnRatzenberger', 1), ('JohnOrtiz', 1), ('JohnMalkovich', 1), ('JohnLeguizamo', 3), ('JohnKrasinski', 1), ('JohnHurt', 2), ('JohnHodgman', 1), ('JohnHawkes', 1), ('JohnGoodman', 6), ('JohnGallagherJr.', 3), ('JohnFrancisDaley', 1), ('JohnDoman', 1), ('JohnDeLuca', 1), (\"JohnD'Leo\", 1), ('JohnCusack', 3), ('JohnCullum', 1), ('JohnCorbett', 2), ('JohnCarrollLynch', 1), ('JohnC.Reilly', 6), ('JohnC.McGinley', 1), ('JohnBoyega', 1), ('JohnAlexander', 1), ('JoeyMorgan', 1), ('JoeyLaurenAdams', 1), ('JoelyRichardson', 1), ('JoelMcHale', 1), ('JoelKinnaman', 2), ('JoelEdgerton', 8), ('JoelDavidMoore', 1), ('JoelCourtney', 1), ('JoeManganiello', 1), ('JoeCobden', 1), ('JoeBlakemore', 1), ('JoeAnderson', 2), ('JoeAlwyn', 1), ('JodieFoster', 2), ('JocelinDonahue', 1), ('JoaquinPhoenix', 3), ('JoanneFroggatt', 1), ('JoanCusack', 1), ('JoanAllen', 3), ('JoHartley', 1), ('Jin-woongJo', 1), ('JimSturgess', 5), ('JimParsons', 1), ('JimNorton', 1), ('JimCaviezel', 1), ('JimCarrey', 3), ('JimBroadbent', 3), ('Ji-minHan', 1), ('JetLi', 3), ('JessieOkGray', 1), ('JessicaVanessaDeLeon', 1), ('JessicaSula', 1), ('JessicaLucas', 2), ('JessicaLange', 1), ('JessicaChastain', 8), ('JessicaBrownFindlay', 2), ('JessicaBiel', 3), ('JessicaBarth', 1), ('JessicaBarden', 1), ('JessicaAlba', 2), ('JessePlemons', 1), ('JesseEisenberg', 8), ('JesseBradford', 1), ('JesseBorrego', 1), ('JerryStiller', 1), (\"JerryO'Connell\", 1), ('JerryFerrara', 1), ('JeremyRenner', 8), ('JeremyMcWilliams', 1), ('JeremyIrvine', 2), ('JeremyIrons', 4), ('JeremyDavies', 1), ('JennySlate', 1), ('JenniferSaunders', 1), ('JenniferMorrison', 1), ('JenniferLopez', 2), ('JenniferLawrence', 11), ('JenniferKoenig', 1), ('JenniferJasonLeigh', 2), ('JenniferGarner', 6), ('JenniferEhle', 2), ('JenniferConnelly', 4), ('JenniferAniston', 8), ('JennetteMcCurdy', 1), ('JennaElfman', 1), ('JennaDewanTatum', 2), ('JenaMalone', 2), ('JemimaWest', 1), ('JemaineClement', 3), ('JelenaGavrilovic', 1), ('JeffreyWright', 3), ('JeffreyVincentParise', 1), ('JeffreyDeanMorgan', 1), ('JeffKahn', 1), ('JeffGoldblum', 1), ('JeffGarlin', 1), ('JeffDaniels', 2), ('JeffDanielPhillips', 1), ('JeffBridges', 6), ('JeffBranson', 1), ('JeanReno', 1), ('Jean-ClaudeVanDamme', 2), ('JayBaruchel', 4), ('JavierBardem', 6), ('JasperNewell', 1), ('JasonSudeikis', 7), ('JasonStatham', 6), ('JasonSegel', 3), ('JasonSchwartzman', 2), (\"JasonO'Mara\", 2), ('JasonMomoa', 2), ('JasonMitchell', 1), ('JasonIsaacs', 1), ('JasonFlemyng', 1), ('JasonCope', 1), ('JasonClarke', 6), ('JasonBiggs', 2), ('JasonBateman', 9), ('JasonBarry', 1), ('JasmineTrinca', 1), ('JaredPadalecki', 1), ('JaredLeto', 3), ('JaredHarris', 3), ('JaredGilman', 1), ('JanuaryJones', 1), ('JanetMontgomery', 1), ('JanetMcTeer', 1), ('JanelleMonáe', 1), ('JaneLynch', 1), ('JaneLevy', 3), ('JaneFonda', 2), ('JanCornet', 1), ('JamieFoxx', 5), ('JamieDornan', 4), ('JamieChung', 1), ('JamieCampbellBower', 1), ('JamieBlackley', 1), ('JamieBell', 7), ('JamesRussell', 1), ('JamesRansone', 2), ('JamesMcAvoy', 9), ('JamesMarsters', 1), ('JamesMarsden', 4), ('JamesKelley', 1), ('JamesHamrick', 1), ('JamesGandolfini', 1), ('JamesFrecheville', 2), ('JamesFranco', 9), ('JamesFloyd', 1), ('JamesDuMont', 1), ('JamesCosmo', 1), ('JamesBadgeDale', 4), ('JamesAllenMcCune', 1), ('JamalWoolard', 1), ('JalilLespert', 1), ('JakeJohnson', 1), ('JakeGyllenhaal', 11), ('JakeAbel', 1), ('JaimeWinstone', 1), ('JaiCourtney', 4), ('JahkingGuillory', 1), ('JaelElizabethSteinmeyer', 1), ('JaeHead', 2), ('JadenSmith', 3), ('JadeAsha', 1), ('JacobTremblay', 3), ('JacobLatimore', 1), ('JacksonRathbone', 1), ('JackieEarleHaley', 1), ('JackieChan', 1), ('JackiWeaver', 1), ('JackTaylor', 1), ('JackReynor', 2), (\"JackO'Connell\", 2), ('JackNicholson', 1), ('JackMcBrayer', 1), ('JackMadigan', 1), ('JackHuston', 4), ('JackHolden', 1), ('JackDavenport', 2), ('JackBlack', 4), ('J.ToddSmith', 1), ('J.K.Simmons', 5), ('IvoNandi', 1), ('IvanaBaquero', 1), ('IsraelBroussard', 1), ('IslaFisher', 1), ('IsaiahStone', 1), ('IsabelleNélisse', 1), ('IsabelleHuppert', 2), ('IsabelleFuhrman', 1), ('IsabellaRossellini', 1), ('IsabelLucas', 1), ('IrrfanKhan', 3), ('IrisApatow', 1), ('IndiaEisley', 1), ('ImogenPoots', 4), ('ImeldaStaunton', 1), ('IkeBarinholtz', 1), ('IdrisElba', 6), ('IdinaMenzel', 1), ('IdaEngvoll', 1), ('IceCube', 3), ('IanMcShane', 4), ('IanMcKellen', 6), ('IanHolm', 1), ('IainGlen', 1), ('HunterMcCracken', 1), ('HugoWeaving', 3), ('HughLaurie', 1), ('HughJackman', 14), ('HughGrant', 2), ('HristosPassalis', 1), ('HirokiHasegawa', 1), ('HilarySwank', 2), ('HermioneCorfield', 1), ('HenryThomas', 1), ('HenryCavill', 4), ('HelenaBonhamCarter', 6), ('HelenMirren', 4), ('Hee-BongByun', 1), ('HeatherSossaman', 1), ('HeatherMatarazzo', 1), ('HeathLedger', 2), ('HayleySquires', 1), ('HayleyMcElhinney', 1), ('HayleyAtwell', 1), ('HaydenPanettiere', 1), ('HaydenChristensen', 1), ('HarveyKeitel', 1), ('HarryConnickJr.', 1), ('HarrisonFord', 4), ('HaroldPerrineau', 1), ('HarleyQuinnSmith', 1), ('HansMatheson', 1), ('HalleBerry', 2), ('HaleyLuRichardson', 2), ('HaleyJoelOsment', 1), ('HaleyBennett', 4), ('HaileeSteinfeld', 6), ('Hae-ilPark', 1), ('GwynethPaltrow', 4), ('GuyPearce', 4), ('GuillaumeBaillargeon', 1), ('GuguMbatha-Raw', 3), ('GretchenMol', 1), ('GretaGerwig', 2), ('GregoryJones', 1), ('GreggWeiner', 1), ('GregKinnear', 1), ('GrahamSkipper', 1), ('GrahamMcTavish', 1), ('GraceVanPatten', 1), ('GolshiftehFarahani', 2), ('GlennClose', 1), ('GiuseppeBattiston', 1), ('GiovanniRibisi', 1), ('GinniferGoodwin', 1), ('GinaCarano', 1), ('GillianJacobs', 1), ('GilBirmingham', 2), ('GiancarloEsposito', 1), ('GianKeys', 1), ('GerryBednob', 1), ('GerardoTaracena', 1), ('GerardButler', 11), ('GeorgeMacKay', 1), ('GeorgeLopez', 1), ('GeorgeClooney', 8), ('GeoffreyRush', 5), ('GeoffreyArend', 1), ('GenesisRodriguez', 1), ('GemmaWard', 1), ('GemmaJones', 1), ('GemmaArterton', 3), ('GedeonBurkhard', 1), ('GattlinGriffith', 1), ('GaspardSchlatter', 1), ('GaryOldman', 8), ('GaryCole', 2), ('GarrettM.Brown', 1), ('GarrettHedlund', 4), ('GarrettClayton', 1), ('GarretDillahunt', 1), ('GaranceMarillier', 1), ('GalGadot', 2), ('GaelGarcíaBernal', 1), ('GabyHoffmann', 1), ('GabriellaWilde', 2), ('GabrielaLopez', 1), ('GabrielLuna', 1), ('GabrielChavarria', 1), ('GabrielByrne', 1), ('GabrielBateman', 1), ('GabrielBasso', 3), ('GaboureySidibe', 1), ('FreidaPinto', 2), ('FreddyRodríguez', 1), ('FreddieHighmore', 1), ('FreddieCrowder', 1), ('FredWillard', 1), ('FredDaltonThompson', 1), ('FrançoisCluzet', 1), ('FrankMadigan', 1), ('FrankLangella', 1), ('FrankGrillo', 1), ('FrancescAlbiol', 1), (\"FrancesO'Connor\", 1), ('FranKranz', 1), ('ForestWhitaker', 4), ('FlorencePugh', 1), ('FlorenceKastriner', 1), ('FlorenceClery', 1), (\"FionnO'Shea\", 1), ('FionaGordon', 1), ('FilipBerg', 1), ('FerdiaWalsh-Peelo', 1), ('FelicityJones', 5), ('FatimaSanaShaikh', 1), ('FaridSajjadiHosseini', 1), ('FamkeJanssen', 3), ('FaithWladyka', 1), ('F.MurrayAbraham', 1), ('EzraMiller', 3), ('EwenLeslie', 2), ('EwanMcGregor', 3), ('EwaFröling', 1), ('EveLindley', 1), ('Eve', 1), ('EvangelineLilly', 2), ('EvanRachelWood', 2), ('EvaMendes', 3), ('EvaGreen', 4), ('EthanSuplee', 1), ('EthanHawke', 7), ('EssieDavis', 2), ('ErnstStötzner', 1), ('ErinMoriarty', 2), ('ErikaLinder', 1), ('EricWinter', 1), ('EricStonestreet', 2), ('EricGodon', 1), ('EricBana', 5), ('EmoryCohen', 3), ('EmmyRossum', 1), ('EmmanuelleRiva', 1), ('EmmanuelleChriqui', 1), ('EmmanuelGarijo', 1), ('EmmaWatson', 8), ('EmmaThompson', 3), ('EmmaStone', 10), ('EmmaRoberts', 3), ('EmmaGreenwell', 1), ('EmmaFitzpatrick', 1), ('EmmaBooth', 1), ('EmmaBell', 1), ('EmilyRatajkowski', 1), ('EmilyMortimer', 3), ('EmilyMeade', 1), ('EmilyBrowning', 4), ('EmilyBlunt', 8), ('EmilyBaldoni', 1), ('EmiliedeRavin', 2), ('EmiliaClarke', 2), ('EmileHirsch', 4), ('EmayatzyCorinealdi', 1), ('EloiseMumford', 1), ('EllieKendrick', 2), ('EllieKemper', 1), ('EllenPage', 5), ('EllenDeGeneres', 1), ('EllenBurstyn', 2), ('ElleFanning', 6), ('EllarColtrane', 1), ('EllaRumpf', 1), ('EllaAnderson', 1), ('ElizabethReaser', 1), ('ElizabethOlsen', 2), ('ElizabethMitchell', 1), ('ElizabethHenstridge', 1), ('ElizabethGracen', 1), ('ElizabethDebicki', 1), ('ElizabethBerrington', 1), ('ElizabethBanks', 4), ('ElissaKnight', 1), ('ElisabethShue', 1), ('ElisabethMoss', 1), ('ElijahWood', 2), ('ElijahSmith', 1), ('EliRoth', 1), ('ElenaAnaya', 1), ('EdwinWright', 1), ('EdwardNorton', 5), ('EdwardAsner', 1), ('EdoardoLeo', 1), ('EdithScob', 1), ('EdieFalco', 1), ('EdgarRamírez', 5), ('EddieRedmayne', 4), ('EddieMurphy', 1), ('EddieMarsan', 1), ('EddieIzzard', 1), ('EddieBaroo', 1), ('EdSkrein', 1), ('EdOxenbould', 2), (\"EdO'Neill\", 1), ('EdHelms', 3), ('EdHarris', 3), (\"DylanO'Brien\", 3), ('DylanMinnette', 3), ('DylanDuffus', 1), ('DwayneJohnson', 10), ('DustinHoffman', 4), ('DuncanJoiner', 1), ('DuncanDuff', 1), ('DuléHill', 1), ('DuanSanderson', 1), ('DrewSeeley', 1), ('DrewBarrymore', 1), ('DouglasM.Griffin', 2), ('DougieMcConnell', 1), ('DougJones', 1), ('DoonaBae', 1), ('DonnieYen', 1), ('DonnaMurphy', 1), ('Dong-seokMa', 1), ('DonaldSutherland', 2), ('DonThompson', 1), ('DonCheadle', 3), ('DominiqueTipper', 1), ('DominiqueSwain', 1), ('DominiqueMcElligott', 1), ('DominiqueAbel', 1), ('DominicWest', 3), ('DominicMonaghan', 1), ('DominicCooper', 3), ('DomhnallGleeson', 6), ('DolphLundgren', 1), ('Do-wonKwak', 1), ('DjimonHounsou', 2), ('DieterLaser', 1), ('DiegoLuna', 4), ('DiegoKlattenhoff', 1), ('DiegoBoneta', 1), ('DickVanDyke', 1), ('DiannaAgron', 2), ('DianeLane', 2), ('DianeKruger', 5), ('DevonBostick', 2), ('DevPatel', 5), ('DermotMulroney', 1), ('DerekMears', 1), ('DerekLuke', 1), ('DerekJeter', 1), ('DerekJacobi', 1), ('DenzelWashington', 9), ('DennisQuaid', 5), ('DenisLeary', 1), ('DemiánBichir', 2), ('DemiMoore', 1), ('DeborahKaraUnger', 1), ('DeannaDunagan', 1), ('DeanWaite', 1), ('DeanNorris', 1), ('DeanMumford', 1), (\"De'ShawnWashington\", 1), ('DaxShepard', 1), ('DaxFlame', 1), ('DavidWenham', 1), ('DavidTroughton', 1), ('DavidThewlis', 2), ('DavidStrathairn', 2), ('DavidSpade', 2), ('DavidOyelowo', 3), ('DavidMorse', 2), ('DavidLyons', 1), ('DavidJames', 1), ('DavidHarbour', 2), ('DavidDenman', 2), ('DavidArquette', 1), ('DavidAcord', 1), ('DaveJohns', 1), ('DaveFranco', 2), ('DaveBautista', 2), ('DaríoGrandinetti', 1), ('DarsheelSafary', 1), ('DannyTrejo', 1), ('DannySapani', 1), ('DannyMcBride', 3), ('DannyHuston', 1), ('DannyGlover', 1), ('DannyDeVito', 1), ('DanilaKozlovsky', 2), ('DaniellePanabaker', 1), ('DanielleNicolet', 1), ('DaniellaKertesz', 1), ('DanielZovatto', 1), ('DanielRadcliffe', 9), ('DanielOlbrychski', 1), ('DanielHenshall', 1), ('DanielGiménezCacho', 1), ('DanielFranzese', 1), ('DanielFathers', 1), ('DanielEricGold', 1), ('DanielDay-Lewis', 2), ('DanielCraig', 6), ('DanielBrühl', 4), ('DaneDeHaan', 2), ('DaneCook', 1), ('DanaFuchs', 1), ('DanStevens', 3), ('DanFogler', 2), ('DanCrisafulli', 1), ('DanByrd', 2), ('DamonWayansJr.', 1), ('DamienMarzette', 1), ('DamaineRadcliff', 1), ('DaliaHernández', 1), ('DaleDickey', 1), ('DakotaJohnson', 4), ('DakotaGoyo', 1), ('DakotaFanning', 3), ('DakotaBlueRichards', 1), ('DaisyRidley', 1), (\"Da'VoneMcDonald\", 1), ('CynthiaNixon', 3), ('CushJumbo', 1), ('CrispinGlover', 1), ('CraigVanHook', 1), ('CraigT.Nelson', 1), ('CraigRobinson', 1), ('CraigFerguson', 2), ('CourtneyHalverson', 1), ('CourteneyCox', 1), ('CosmoJarvis', 1), ('CoriGonzalez-Macuer', 1), ('CoreyStoll', 2), ('CoreyHawkins', 1), ('CorbinReid', 1), ('ConnorPaolo', 3), ('ConnieNielsen', 1), ('Common', 1), ('ColtonHaynes', 1), ('ColmMeaney', 1), ('ColmFeore', 1), ('ColleenCamp', 1), ('ColinQuinn', 1), ('ColinHanks', 1), ('ColinFirth', 5), ('ColinFarrell', 6), ('ColeKonis', 1), ('CobieSmulders', 2), ('ClémencePoésy', 1), ('CliveOwen', 3), ('ClintEastwood', 1), ('ClintDyer', 1), ('CliftonCollinsJr.', 2), ('ClaraMamet', 1), ('ClaireDanes', 1), ('CillianMurphy', 6), ('CiaránHinds', 4), ('ChristosStergioglou', 1), ('ChristopherWalken', 1), ('ChristopherPlummer', 5), ('ChristopherMintz-Plasse', 4), ('ChristopherMeyer', 1), ('ChristopherMcDonald', 1), ('ChristopherLee', 1), ('ChristopherJordanWallace', 1), ('ChristopherFitzgerald', 1), ('ChristopherFairbank', 1), ('ChristopherEvanWelch', 1), ('ChristopherCarley', 1), ('ChristophWaltz', 3), ('ChristinaHendricks', 2), ('ChristinaGrimmie', 1), ('ChristinaApplegate', 2), ('ChristianStolte', 1), ('ChristianStevens', 1), ('ChristianSlater', 1), ('ChristianDistefano', 1), ('ChristianCooke', 1), ('ChristianBale', 13), ('ChrisWedge', 1), ('ChrisRock', 2), ('ChrisPratt', 7), ('ChrisPine', 9), ('ChrisMessina', 1), ('ChrisKlein', 1), ('ChrisIsaak', 1), ('ChrisHemsworth', 10), ('ChrisGethard', 1), ('ChrisEvans', 9), ('ChrisCooper', 1), ('ChloëSevigny', 1), ('ChloëGraceMoretz', 11), ('ChiwetelEjiofor', 9), ('ChiraCassel', 1), ('CherylHines', 1), ('ChatchawaiKamonsakpitak', 1), ('ChaseWilliamson', 1), ('ChaseOfferle', 1), ('CharlotteLeBon', 5), ('CharlotteGainsbourg', 6), ('CharlizeTheron', 10), ('CharlieTahan', 1), ('CharlieHunnam', 3), ('CharlieHeaton', 1), ('CharlieDay', 4), ('CharlieCox', 1), ('CharlesS.Dutton', 1), ('CharlesDance', 1), ('CharlesBerling', 1), ('ChanningTatum', 12), ('ChadwickBoseman', 2), ('CedrictheEntertainer', 1), ('CatincaUntaru', 1), ('CatherineWalker', 1), ('CatherineKeener', 3), ('CatherineBégin', 1), ('CateBlanchett', 11), ('CatalinaSandinoMoreno', 1), ('CassieVentura', 1), ('CaseyAffleck', 6), ('CaryJojiFukunaga', 1), ('CaryElwes', 1), ('Cary-HiroyukiTagawa', 1), ('Carrie-AnneMoss', 1), ('CarmenElectra', 1), ('CarmenEjogo', 1), ('CarlyRaeJepsen', 1), ('CarlaQuevedo', 1), ('CarlaGugino', 2), ('CaricevanHouten', 1), ('CareyMulligan', 3), ('CaraDelevingne', 1), ('CaraBuono', 1), ('CandiceBergen', 1), ('CamilleCottin', 1), ('CameronDiaz', 5), ('CamGigandet', 2), ('CalumWorthy', 1), ('CallumTurner', 1), ('CallumKeithRennie', 1), ('CallieHernandez', 1), ('CallanMcAuliffe', 1), ('CaitlynRund', 1), ('CCHPounder', 1), ('C.H.Evans', 1), ('BárbaraLennie', 1), ('Byung-hunLee', 2), ('BurtYoung', 1), ('BryceDallasHoward', 6), ('BryanGreenberg', 1), ('BryanCranston', 7), ('BrunoCampos', 1), ('BruceWillis', 4), ('BruceGreenwood', 2), ('BruceCampbell', 1), ('BruceBoxleitner', 1), ('BrooklynDecker', 2), ('BrookeShields', 1), ('BrittanySnow', 2), ('BrittanyMurphy', 1), ('BrittanyBlanton', 1), ('BrittRobertson', 4), ('BritMorgan', 1), ('BritMarling', 1), ('BrightonSharbino', 1), ('BrieLarson', 5), ('BridgetteBarrett', 1), ('BrianaShann', 1), ('BrianaEvigan', 1), ('BrianWhite', 1), ('BrianMilligan', 1), ('BrianMarc', 1), ('BrianHowe', 1), ('BrianGeraghty', 1), ('BrianDennehy', 1), ('BrianCox', 1), ('BrianCaspe', 1), ('BriaL.Murphy', 1), ('BrettCullen', 1), ('BrentonThwaites', 3), ('BrendanGleeson', 6), ('BrendanFraser', 1), ('BrendaBlethyn', 1), ('BreeTurner', 1), ('BreaGrant', 1), ('BrandonT.Jackson', 2), ('BrandonScott', 1), ('BrandonRouth', 1), ('BrandenColes', 1), ('BradyCorbet', 1), ('BradleyCooper', 11), ('BradPitt', 13), ('BradGarrett', 1), ('BoydHolbrook', 1), ('BonnieHunt', 1), ('BomanIrani', 1), ('BokeemWoodbine', 1), ('BobtheCat', 1), ('BobBalaban', 2), ('BlytheDanner', 2), ('BlytheAuffarth', 1), ('BlancheBaker', 1), ('BlakeLively', 5), ('BlakeJenner', 2), ('BillyMagnussen', 1), ('BillyCrystal', 1), ('BillyCrudup', 3), ('BillyConnolly', 1), ('BillyBurke', 2), ('BillyBobThornton', 2), ('BilliePiper', 1), ('BillPullman', 1), ('BillPaxton', 3), ('BillNighy', 5), ('BillMurray', 3), ('BillHader', 3), ('BillEngvall', 1), ('BijouPhillips', 1), (\"BeverlyD'Angelo\", 1), ('BenjaminWalker', 1), ('BenjaminBratt', 1), ('BenicioDelToro', 2), ('BenedictWong', 1), ('BenedictCumberbatch', 4), ('BenWinchell', 1), ('BenWhishaw', 4), ('BenWalker', 1), ('BenStiller', 5), ('BenKingsley', 9), ('BenFoster', 6), ('BenBurtt', 1), ('BenBarnes', 1), ('BenAffleck', 6), ('BellaThorne', 1), ('BellaHeathcote', 1), ('BelPowley', 1), ('BeeVang', 1), ('BarryWard', 2), ('BarryPepper', 1), ('BarkhadAbdirahman', 1), ('BarkhadAbdi', 2), ('BarbaraCrampton', 1), ('BaptisteGoy', 1), ('BaileyAnneBorders', 1), ('BaharPars', 1), ('BabakKarimi', 1), ('AyseHoward', 1), ('AxelDevillers', 1), ('AustinStowell', 1), ('AustinPendleton', 1), ('AustinAbrams', 1), ('AurélienRecoing', 1), (\"Auli'iCravalho\", 1), ('AudreyTautou', 2), ('AudreyFleurot', 1), ('AubreyPlaza', 2), ('AstridBergès-Frisbey', 1), ('AshtonKutcher', 1), ('AshlynnYennie', 1), ('AshlynSanchez', 1), ('AshleyWalters', 1), ('AshleyTisdale', 1), ('AshleyC.Williams', 1), ('AshleyBenson', 1), ('AshleighCummings', 1), ('AsaButterfield', 4), ('AryanaEngineer', 1), ('ArturoCastro', 1), ('ArtParkinson', 2), ('ArnoldSchwarzenegger', 2), ('ArnaudViard', 1), ('ArminMueller-Stahl', 1), ('ArmieHammer', 4), ('ArlenEscarpeta', 1), ('ArielleHolmes', 1), ('ArielLevy', 1), ('AriadnaGil', 1), ('AriGraynor', 1), ('AomiMuyock', 1), ('AoiYuki', 2), ('AnyaTaylor-Joy', 3), ('AnushkaShetty', 1), ('AnushkaSharma', 1), ('AntonioTarver', 1), ('AntonioBanderas', 2), ('AntoniaRibero', 1), ('AntonYelchin', 2), ('AntonAdasinsky', 1), ('AntoineBertrand', 1), ('Antoine-OlivierPilon', 1), ('AntjeTraue', 1), ('AnthonyMackie', 5), ('AnthonyLaPaglia', 1), ('AnthonyHopkins', 5), ('AnthonyEdwards', 1), ('AnthonyCirillo', 1), ('AnthonyAnderson', 1), ('AnselElgort', 2), ('AnnikaWedderkopp', 1), ('AnnieRoseBuckley', 1), ('AnnetteBening', 1), ('AnneLeNy', 1), ('AnneHathaway', 12), ('AnneDorval', 1), ('AnneConsigny', 1), ('AnnaliseBasso', 2), ('AnnabethGish', 1), ('AnnabelleWallis', 2), ('AnnabelleAttanasio', 1), ('AnnaSophiaRobb', 1), ('AnnaKendrick', 11), ('AnnaHutchison', 2), ('AnnaFriel', 1), ('AnnaFoglietta', 1), ('AnnaFaris', 4), ('AnnaCamp', 1), ('AnilKapoor', 1), ('AnikaNoniRose', 2), ('AngourieRice', 1), ('AngeloJosueLozanoCorzo', 1), ('AngeliquePereira', 1), ('AngelinaJolie', 7), ('AngelikiPapoulia', 1), ('AngelaBassett', 2), ('AngPhulaSherpa', 1), ('AndySerkis', 3), ('AndySamberg', 3), ('AndyPowers', 1), ('AndyLau', 1), ('AndyGarcia', 1), ('AndyBuckley', 1), ('AndréMarcon', 1), ('AndrewSimpson', 1), ('AndrewScott', 5), ('AndrewHoward', 1), ('AndrewGarfield', 6), ('AndreasWisniewski', 1), ('AndreaWhitburn', 1), ('AndreaRiseborough', 3), ('AndreBraugher', 1), ('AndieMacDowell', 1), ('AndersHolm', 1), ('AndersDanielsenLie', 1), ('AnaleighTipton', 2), ('AnadeArmas', 2), ('AnaWagener', 1), ('AmySchumer', 1), ('AmyRyan', 4), ('AmyPoehler', 2), ('AmyAdams', 9), ('AmrWaked', 1), ('AmericaFerrera', 1), ('AmberTamblyn', 1), ('AmberPerkins', 1), ('AmberHeard', 3), ('AmaraMiller', 1), ('AmandaSeyfried', 6), ('AmandaRighetti', 1), ('AmandaPeet', 1), ('AmandaBynes', 2), ('AlysonHannigan', 1), ('AlyciaDebnam-Carey', 1), ('AlonAboutboul', 1), ('AllisonTolman', 1), ('AllisonJanney', 1), ('AllenLeech', 1), ('AlistairAbell', 1), ('AlisonSudol', 1), ('AlisonPill', 1), ('AlisonBrie', 4), ('AliciaVikander', 6), ('AliceEve', 2), ('AliceEnglert', 1), ('AliceBraga', 3), ('AliaShawkat', 2), ('AliaBhatt', 1), ('AliLarter', 2), ('AlfredMolina', 3), ('AlfreWoodard', 1), ('AlfieAllen', 1), ('AlexisDziena', 1), ('AlexisClagett', 1), ('AlexiPappas', 1), ('AlexandraMariaLara', 1), ('AlexandraDaddario', 4), ('AlexanderSkarsgård', 4), ('AlexanderLudwig', 1), ('AlexanderBlack', 1), ('AlexR.Hibbert', 1), ('AlexPettyfer', 3), ('AlexKarpovsky', 1), ('AlexFisher', 1), ('AlexEssoe', 1), ('AlessandroNivola', 1), ('AleksandrArmer', 1), ('AlecBaldwin', 4), ('AldisHodge', 1), ('AldenEhrenreich', 2), ('AlbertFinney', 1), ('AlbertBrooks', 3), ('AlanTudyk', 1), ('AlanRickman', 3), ('AlanArkin', 1), ('AlanAlda', 2), ('AlainMoussi', 1), ('AkivaSchaffer', 1), ('AkihiroKitamura', 1), ('AidenLongworth', 1), ('AidanTurner', 1), ('AidanQuinn', 1), ('AidanGillen', 1), ('AhneyHer', 1), ('AdèleExarchopoulos', 2), ('AdrienBrody', 2), ('AdriannePalicki', 1), ('AdrianTitieni', 1), ('AdrianMartinez', 2), ('AdrianGrenier', 2), ('AdriaArjona', 1), ('AdilHussain', 1), ('AdewaleAkinnuoye-Agbaje', 2), ('AdelaideKane', 1), ('AddisonTimlin', 1), ('AdamSandler', 9), ('AdamRodriguez', 1), ('AdamPally', 1), ('AdamLevine', 1), ('AdamG.Sevani', 1), ('AdamDriver', 4), ('AdamDevine', 1), ('AdamCampbell', 1), ('AdamBrody', 2), ('AbigailBreslin', 4), ('AbbieCornish', 6), ('AasifMandvi', 1), ('AaronYoo', 1), ('AaronTaylor-Johnson', 6), ('AaronPoole', 1), ('AaronPaul', 4), ('AaronEckhart', 5), ('AaronBurns', 2), ('AamirKhan', 4), ('AJMichalka', 1), ('A.C.Peterson', 1), ('50Cent', 1)]\n",
            "[('JessicaSula', 1), ('TianJing', 1), ('AndyLau', 1), ('RosemarieDeWitt', 1), ('JulianBarratt', 1), ('AlisonSudol', 1), ('JanelleMonáe', 1), ('AlanTudyk', 1), ('DonnieYen', 1), (\"Auli'iCravalho\", 1), ('TemueraMorrison', 1), ('AustinStowell', 1), ('TimBlakeNelson', 1), ('LouisC.K.', 1), ('SunnyPawar', 1), ('LucasHedges', 1), ('EmmaBooth', 1), ('AshleighCummings', 1), ('StephenCurry', 1), ('SusiePorter', 1), ('JeffGoldblum', 1), ('BillPullman', 1), ('FionaGordon', 1), ('DominiqueAbel', 1), ('EmmanuelleRiva', 1), ('PierreRichard', 1), ('Prabhas', 1), ('RanaDaggubati', 1), ('AnushkaShetty', 1), ('TamannaahBhatia', 1), ('JocelinDonahue', 1), ('JesseBradford', 1), ('JesseBorrego', 1), ('LoriPetty', 1), ('TangieAmbrose', 1), ('CedrictheEntertainer', 1), ('MorenaBaccarin', 1), ('EdSkrein', 1), ('IainGlen', 1), ('ShawnRoberts', 1), ('SebastianStan', 1), ('MackenzieFoy', 1), ('BenedictWong', 1), ('JohnFrancisDaley', 1), ('AustinPendleton', 1), ('ColleenCamp', 1), ('NeilFlynn', 1), ('AlistairAbell', 1), ('ShariffEarp', 1), ('DuanSanderson', 1), ('AlexR.Hibbert', 1), ('BrittanyBlanton', 1), ('AyseHoward', 1), ('RomanJossart', 1), ('NadiaWhite', 1), ('JohnCarrollLynch', 1), ('GabrielChavarria', 1), ('TheoRossi', 1), ('HermioneCorfield', 1), ('AddisonTimlin', 1), ('JoelyRichardson', 1), ('DaisyRidley', 1), ('JohnBoyega', 1), ('TobiasMenzies', 1), ('LaraPulver', 1), ('AlfieAllen', 1), ('TadanobuAsano', 1), ('DanielZovatto', 1), ('JanetMcTeer', 1), ('CharlesDance', 1), ('ValerieMahaffey', 1), ('BrianCox', 1), ('OpheliaLovibond', 1), ('EloiseMumford', 1), (\"BeverlyD'Angelo\", 1), ('JamesDuMont', 1), ('DanielGiménezCacho', 1), ('VincentEbrahim', 1), ('LewisMacDougall', 1), ('GinniferGoodwin', 1), ('JennySlate', 1), ('EliRoth', 1), ('KateMcKinnon', 1), ('LeslieJones', 1), ('GeorgeMacKay', 1), ('SamanthaIsler', 1), ('NeilPatrickHarris', 1), ('ChrisMessina', 1), ('WaltonGoggins', 1), ('TravisFimmel', 1), ('SteveLantz', 1), ('GreggWeiner', 1), ('AngourieRice', 1), ('RyûnosukeKamiki', 1), ('MoneKamishiraishi', 1), ('RyôNarita', 1), ('AaronPoole', 1), ('KennethWelsh', 1), ('DanielFathers', 1), ('KathleenMunroe', 1), ('LarsEidinger', 1), ('SigridBouaziz', 1), ('AndersDanielsenLie', 1), ('JackNicholson', 1), ('PaulAnderson', 1), ('MarioCasas', 1), ('AnaWagener', 1), ('JoséCoronado', 1), ('BárbaraLennie', 1), ('ElizabethDebicki', 1), ('DannyDeVito', 1), ('EdieFalco', 1), ('RoryJ.Saper', 1), ('ChristianStevens', 1), ('EveLindley', 1), ('RichardKind', 1), ('MarkConsuelos', 1), ('KatherineReis', 1), ('SonoyaMizuno', 1), ('TonyGoldwyn', 1), ('AdriaArjona', 1), ('JohnC.McGinley', 1), ('MichaelKennethWilliams', 1), ('DavidWenham', 1), ('SakshiTanwar', 1), ('FatimaSanaShaikh', 1), ('SanyaMalhotra', 1), ('EllenDeGeneres', 1), (\"EdO'Neill\", 1), ('KaitlinOlson', 1), ('AdamDevine', 1), ('ScottAdkins', 1), ('TeodoraDuhovnikova', 1), ('AlonAboutboul', 1), ('JulianVergov', 1), ('NeelSethi', 1), ('EmilyMeade', 1), ('MilesHeizer', 1), ('StephenHenderson', 1), ('JovanAdepo', 1), ('ÓscarJaenada', 1), ('AngeloJosueLozanoCorzo', 1), ('BrettCullen', 1), ('MelissaBenoist', 1), ('PaulReiser', 1), ('CraigVanHook', 1), ('CaricevanHouten', 1), ('LeonardNimoy', 1), ('SeanBridgers', 1), ('WendyCrewson', 1), ('KerryWashington', 1), ('Min-heeKim', 1), ('Jung-wooHa', 1), ('Jin-woongJo', 1), ('So-riMoon', 1), ('KyraSedgwick', 1), ('JackieEarleHaley', 1), ('RubyBarnhill', 1), ('PenelopeWilton', 1), ('MorganSaylor', 1), ('BrianMarc', 1), ('ChrisIsaak', 1), ('C.H.Evans', 1), ('SandraKinder', 1), ('ReikoAylesworth', 1), ('StevenPasquale', 1), ('ShareekaEpps', 1), ('JohnOrtiz', 1), ('RinkoKikuchi', 1), ('KieranCulkin', 1), ('AlisonPill', 1), ('TomCullen', 1), ('ClintDyer', 1), ('AldisHodge', 1), ('RobertKnepper', 1), ('SarahClarke', 1), ('KatieHolmes', 1), ('JohnKrasinski', 1), ('PabloSchreiber', 1), ('GrahamSkipper', 1), ('ChaseWilliamson', 1), ('BreaGrant', 1), ('BarbaraCrampton', 1), ('IdinaMenzel', 1), ('JonathanGroff', 1), ('HughLaurie', 1), ('RaffeyCassidy', 1), ('JeffKahn', 1), ('MadisonWolfe', 1), (\"FrancesO'Connor\", 1), ('MichaelDouglas', 1), ('GemmaJones', 1), ('SallyPhillips', 1), ('RalphIneson', 1), ('KateDickie', 1), ('JulianRichings', 1), ('TomHughes', 1), ('OonaChaplin', 1), ('TaranehAlidoosti', 1), ('ShahabHosseini', 1), ('BabakKarimi', 1), ('FaridSajjadiHosseini', 1), ('AomiMuyock', 1), ('KlaraKristin', 1), ('JuanSaavedra', 1), ('JoeAlwyn', 1), ('ArturoCastro', 1), ('MasonLee', 1), ('AmySchumer', 1), ('ColinQuinn', 1), ('FlorenceClery', 1), ('ErikaLinder', 1), ('NatalieKrill', 1), ('SebastianPigott', 1), ('MaykoNguyen', 1), ('MichaelYare', 1), ('NickNolte', 1), ('JenniferMorrison', 1), ('HayleyAtwell', 1), ('CallanMcAuliffe', 1), ('LorraineNicholson', 1), ('DanielEricGold', 1), ('AllenLeech', 1), ('DanielleNicolet', 1), ('JasonIsaacs', 1), ('IvoNandi', 1), ('GaranceMarillier', 1), ('EllaRumpf', 1), ('RabahNaitOufella', 1), ('Nellie', 1), ('RizwanManji', 1), ('GlennClose', 1), ('DominiqueTipper', 1), ('PaddyConsidine', 1), ('ColtonHaynes', 1), ('AshleyBenson', 1), ('RachelKorine', 1), ('BarryPepper', 1), ('MarkHuberman', 1), ('SusanLoughnane', 1), ('SteveOram', 1), ('CatherineWalker', 1), ('GarrettM.Brown', 1), ('BonnieHunt', 1), ('PaulNewman', 1), ('KeirGilchrist', 1), ('OliviaLuccardi', 1), ('LiliSepe', 1), ('SashaLane', 1), ('McCaulLombardi', 1), ('JessicaBarden', 1), ('LesleyManville', 1), ('IvanaBaquero', 1), ('AriadnaGil', 1), ('SergiLópez', 1), ('MaribelVerdú', 1), ('VincentKartheiser', 1), ('GerardoTaracena', 1), ('RaoulMaxTrujillo', 1), ('DaliaHernández', 1), ('RudyYoungblood', 1), ('MelRaido', 1), ('DuncanJoiner', 1), ('F.MurrayAbraham', 1), ('MaxIrons', 1), ('JakeAbel', 1), ('MindyKaling', 1), ('EddieIzzard', 1), ('KevinMcKidd', 1), ('SteveCoogan', 1), ('AnnetteBening', 1), ('FrançoisCluzet', 1), ('AnneLeNy', 1), ('AudreyFleurot', 1), ('ArnaudViard', 1), ('LindaGegusch', 1), ('ChristosStergioglou', 1), ('MicheleValley', 1), ('AngelikiPapoulia', 1), ('HristosPassalis', 1), (\"O'SheaJacksonJr.\", 1), ('CoreyHawkins', 1), ('JasonMitchell', 1), ('NeilBrownJr.', 1), ('RonLivingston', 1), ('LiliTaylor', 1), ('KarinKonoval', 1), ('GabrielBateman', 1), ('LiorAshkenazi', 1), ('WinonaRyder', 1), ('TylerJamesWilliams', 1), ('TeyonahParris', 1), ('StacyMartin', 1), ('DannyHuston', 1), ('SarahHyland', 1), ('StevenKrueger', 1), ('JustinChon', 1), ('ClaraMamet', 1), ('NaomieHarris', 1), ('FerdiaWalsh-Peelo', 1), ('AidanGillen', 1), ('MariaDoyleKennedy', 1), ('CarlyRaeJepsen', 1), ('MaddieZiegler', 1), ('AnthonyEdwards', 1), ('TylerHoechlin', 1), ('Common', 1), ('VanessaFerlito', 1), ('JosephFiennes', 1), ('IslaFisher', 1), ('RossKimball', 1), ('RomainDuris', 1), ('JalilLespert', 1), ('CamilleCottin', 1), ('Soo-anKim', 1), ('Yu-miJung', 1), ('Dong-seokMa', 1), ('AnnaCamp', 1), ('LoïsvanWijk', 1), ('BenjaminWalker', 1), ('RayRomano', 1), ('DenisLeary', 1), ('ChrisWedge', 1), ('MartinStringer', 1), ('KristenConnolly', 1), ('FranKranz', 1), ('ColinHanks', 1), ('KatDennings', 1), ('ZacheryTyBryan', 1), ('ShadMoss', 1), ('DamienMarzette', 1), ('QuintonAaron', 1), ('TimMcGraw', 1), ('SalimKechiouche', 1), ('AurélienRecoing', 1), ('NoahWiseman', 1), ('DanielHenshall', 1), ('HayleyMcElhinney', 1), ('MatthewZuk', 1), ('GabrielaLopez', 1), ('BaileyAnneBorders', 1), ('LauraAbramsen', 1), ('A.C.Peterson', 1), ('OliviaDeJonge', 1), ('DeannaDunagan', 1), ('PeterMcRobbie', 1), ('DamaineRadcliff', 1), (\"De'ShawnWashington\", 1), ('JessieOkGray', 1), ('CaryJojiFukunaga', 1), ('ÓlafurDarriÓlafsson', 1), ('LukeTreadaway', 1), ('BobtheCat', 1), ('RutaGedmintas', 1), ('JoanneFroggatt', 1), ('WeiTang', 1), ('LeehomWang', 1), ('KatieCrown', 1), ('KelseyGrammer', 1), ('ColeKonis', 1), ('AlexandraMariaLara', 1), ('AnnabethGish', 1), ('JackiWeaver', 1), ('AlexiPappas', 1), ('ChaseOfferle', 1), ('RachelDratch', 1), ('AndyBuckley', 1), ('DrewBarrymore', 1), ('KevinNealon', 1), ('MaggieGyllenhaal', 1), ('OakesFegley', 1), ('CharlieCox', 1), ('ClaireDanes', 1), ('KathyBates', 1), ('KurtFuller', 1), ('FlorencePugh', 1), ('ChristopherFairbank', 1), ('CosmoJarvis', 1), ('NaomiAckie', 1), ('BenBarnes', 1), ('ClémencePoésy', 1), ('AntoineBertrand', 1), ('AshleyWalters', 1), ('TomPrior', 1), ('SophiePerry', 1), ('LydiaWilson', 1), ('AndyPowers', 1), ('LauraAllen', 1), ('ChristianDistefano', 1), ('SaurabhShukla', 1), ('AnilKapoor', 1), ('PeterFacinelli', 1), ('JonVoight', 1), ('RhysIfans', 1), ('NazaninBoniadi', 1), ('JacobLatimore', 1), ('SeychelleGabriel', 1), ('DuléHill', 1), ('StormReid', 1), ('TerenceStamp', 1), ('SimonHelberg', 1), ('PhyliciaRashad', 1), ('AntoniaRibero', 1), ('TaikaWaititi', 1), ('CoriGonzalez-Macuer', 1), ('JonnyBrugh', 1), ('KateSiegel', 1), ('MichaelTrucco', 1), ('SamanthaSloyan', 1), ('AngPhulaSherpa', 1), ('ThomasM.Wright', 1), ('MaxvonSydow', 1), ('WillYunLee', 1), ('TaoOkamoto', 1), ('RilaFukushima', 1), ('LynnCollins', 1), ('SamanthaMorton', 1), ('JordanPeele', 1), ('TiffanyHaddish', 1), ('MethodMan', 1), ('JasmineTrinca', 1), ('TimPigott-Smith', 1), ('NaomiBattrick', 1), ('JamesCosmo', 1), ('KathyBaker', 1), ('SanjeevBhaskar', 1), ('PierreCoffin', 1), ('NatashaHenstridge', 1), ('LukasHassel', 1), ('DominiqueSwain', 1), ('KellyAdams', 1), ('LuingAndrews', 1), ('KatyBarker', 1), ('RussellBrand', 1), ('JulieAndrews', 1), ('EmayatzyCorinealdi', 1), ('TammyBlanchard', 1), ('MandyMoore', 1), ('ZacharyLevi', 1), ('DonnaMurphy', 1), ('SkylerGisondo', 1), ('SteeleStebbins', 1), ('LelandOrser', 1), ('BillyCrystal', 1), ('SteveBuscemi', 1), ('LaurentLafitte', 1), ('AnneConsigny', 1), ('CharlesBerling', 1), ('HaleyJoelOsment', 1), ('GenesisRodriguez', 1), ('GretchenMol', 1), ('BrendaBlethyn', 1), ('LucyWalters', 1), ('VickyKrieps', 1), ('LaurenBirkell', 1), ('PaulBorghese', 1), ('ChiraCassel', 1), ('AnthonyCirillo', 1), ('SamRiley', 1), ('BellaHeathcote', 1), ('SullivanStapleton', 1), ('HansMatheson', 1), ('JuliaOrmond', 1), ('JuliaStiles', 1), (\"Srdjan'Zika'Todorovic\", 1), ('SergejTrifunovic', 1), ('JelenaGavrilovic', 1), ('SlobodanBestic', 1), ('FrankGrillo', 1), ('ElizabethMitchell', 1), ('MykeltiWilliamson', 1), ('JosephJulianSoria', 1), ('Madhavan', 1), ('MonaSingh', 1), ('SharmanJoshi', 1), ('DaniellaKertesz', 1), ('MarilynManson', 1), ('MarkBooneJunior', 1), ('SamQuartin', 1), ('NikoNicotera', 1), ('EddieMarsan', 1), ('OakleePendergast', 1), ('AlexKarpovsky', 1), ('WyattRussell', 1), ('MeredithHagner', 1), ('MelanieLynskey', 1), ('TeriHatcher', 1), ('JohnHodgman', 1), ('JenniferSaunders', 1), ('JohnDoman', 1), ('FaithWladyka', 1), ('LoganPaul', 1), ('PeytonList', 1), ('CalumWorthy', 1), ('RadhaMitchell', 1), ('DeborahKaraUnger', 1), ('RachelWood', 1), ('JulianDennison', 1), ('RimaTeWiata', 1), ('RyanPotter', 1), ('ScottAdsit', 1), ('JamieChung', 1), ('PortiaDoubleday', 1), ('ChrisCooper', 1), ('JudahLewis', 1), ('AntjeTraue', 1), ('MadsMikkelsen', 1), ('ThomasBoLarsen', 1), ('AnnikaWedderkopp', 1), ('LasseFogelstrøm', 1), ('CraigT.Nelson', 1), ('T.I.', 1), ('ChristopherFitzgerald', 1), ('JonathanRoumie', 1), ('LaurenCohan', 1), ('RupertEvans', 1), ('JamesRussell', 1), ('JimNorton', 1), ('SarahSnook', 1), ('NoahTaylor', 1), ('MadeleineWest', 1), ('OdeyaRush', 1), ('RyanLee', 1), ('DanielOlbrychski', 1), ('IsabellaRossellini', 1), ('DavidJames', 1), ('JasonCope', 1), ('NathalieBoltt', 1), ('DerekJeter', 1), ('RipTorn', 1), ('AmandaPeet', 1), ('AlanArkin', 1), ('TomCostello', 1), ('JoHartley', 1), ('UlrichMühe', 1), ('MartinaGedeck', 1), ('SebastianKoch', 1), ('UlrichTukur', 1), ('DominicMonaghan', 1), ('KseniaSolo', 1), ('JennetteMcCurdy', 1), (\"Da'VoneMcDonald\", 1), ('NancyKwan', 1), ('AnnabelleAttanasio', 1), ('JackMadigan', 1), ('FrankMadigan', 1), ('TaylorSwift', 1), ('GiuseppeBattiston', 1), ('AnnaFoglietta', 1), ('MarcoGiallini', 1), ('EdoardoLeo', 1), ('JaredGilman', 1), ('KaraHayward', 1), ('JohnTravolta', 1), ('QueenLatifah', 1), ('NikkiBlonsky', 1), ('DavidLyons', 1), ('BradGarrett', 1), ('LouRomano', 1), ('PattonOswalt', 1), ('IanHolm', 1), ('KellyMcGillis', 1), ('GregoryJones', 1), ('JeremyMcWilliams', 1), ('LynseyTaylorMackay', 1), ('DougieMcConnell', 1), ('CharlieTahan', 1), ('SalliRichardson-Whitfield', 1), ('AJMichalka', 1), ('JoelCourtney', 1), ('ColmMeaney', 1), ('EdwardAsner', 1), ('JordanNagai', 1), ('JohnRatzenberger', 1), ('GiancarloEsposito', 1), ('SarahPaulson', 1), ('SamTrammell', 1), ('HarveyKeitel', 1), ('SarahPolley', 1), ('LinhDanPham', 1), ('BilliePiper', 1), ('JamesFloyd', 1), ('CushJumbo', 1), ('GeoffreyArend', 1), ('StephenMerchant', 1), ('OrtoIgnatiussen', 1), ('RupertFriend', 1), (\"ZacMattoonO'Brien\", 1), ('DannyGlover', 1), ('AshlynSanchez', 1), ('MatthewFox', 1), ('JoeManganiello', 1), ('AdamRodriguez', 1), ('PennBadgley', 1), ('KenStott', 1), ('JosephMawle', 1), ('BrianCaspe', 1), ('KarelHermánekJr.', 1), ('AntonAdasinsky', 1), ('AleksandrArmer', 1), ('VilenBabichev', 1), ('RostislavBershauer', 1), ('BillyMagnussen', 1), ('TerryChen', 1), ('TeresaNavarro', 1), ('VanessaRoss', 1), ('ArielLevy', 1), ('KirbyBlissBlanton', 1), ('AlbertFinney', 1), ('AlyciaDebnam-Carey', 1), ('WilliamMoseley', 1), ('BritMorgan', 1), ('JimCaviezel', 1), ('ValKilmer', 1), ('Min-sikChoi', 1), ('AmrWaked', 1), ('DuncanDuff', 1), ('KeithCarradine', 1), ('ScottMescudi', 1), ('WernerHerzog', 1), ('KatiOutinen', 1), ('PeterRiegert', 1), ('OliviaWilliams', 1), ('AnnaFriel', 1), ('MaxMartini', 1), ('HarryConnickJr.', 1), ('GillianJacobs', 1), ('ChrisGethard', 1), ('ElisabethMoss', 1), ('DaveJohns', 1), ('HayleySquires', 1), ('SharonPercy', 1), ('BrianaShann', 1), ('JoeyLaurenAdams', 1), ('RuthNegga', 1), ('WillDalton', 1), ('DeanMumford', 1), ('MartinMcCann', 1), ('AndrewSimpson', 1), ('RichendaCarey', 1), ('KristinChenoweth', 1), ('AllisonTolman', 1), ('DaxShepard', 1), ('DolphLundgren', 1), ('ShilohFernandez', 1), ('LouTaylorPucci', 1), ('JulietRylance', 1), ('FredDaltonThompson', 1), ('JackMcBrayer', 1), ('JaneLynch', 1), ('LeviMiller', 1), ('RosieHuntington-Whiteley', 1), ('SaritaChoudhury', 1), ('AlexanderBlack', 1), ('KateUpton', 1), ('AndersHolm', 1), ('GregKinnear', 1), ('KateySagal', 1), ('JasonFlemyng', 1), ('BruceBoxleitner', 1), ('FrankLangella', 1), ('LilyRabe', 1), ('AlainMoussi', 1), ('GinaCarano', 1), ('NoahRinger', 1), ('JacksonRathbone', 1), ('RobCorddry', 1), ('EllieKemper', 1), ('MatthewMorrison', 1), ('J.ToddSmith', 1), ('SamElliott', 1), ('MattLong', 1), ('Miyavi', 1), ('StephenDorff', 1), ('KellyMacdonald', 1), ('BillyConnolly', 1), ('JulieWalters', 1), ('EwaFröling', 1), ('LenaEndre', 1), ('JamesGandolfini', 1), ('LauraRamsey', 1), ('CaraBuono', 1), ('SeanFaris', 1), ('FreddieCrowder', 1), ('DominiqueMcElligott', 1), ('RosieShaw', 1), ('GiovanniRibisi', 1), ('MelGibson', 1), ('MorganLily', 1), ('TrentonRogers', 1), ('MattVael', 1), ('SimonCotton', 1), ('KevinLeslie', 1), ('OliviaMoyles', 1), (\"FionnO'Shea\", 1), ('NicholasGalitzine', 1), ('MoeDunford', 1), ('JohnHawkes', 1), ('GarretDillahunt', 1), ('IsaiahStone', 1), ('SteveWiebe', 1), ('AnneDorval', 1), ('Antoine-OlivierPilon', 1), ('SuzanneClément', 1), ('PatrickHuard', 1), ('SelmaBlair', 1), ('DougJones', 1), ('JohnAlexander', 1), ('AliceEnglert', 1), ('SandraHüller', 1), ('PeterSimonischek', 1), ('MichaelWittenborn', 1), ('ThomasLoibl', 1), ('SamShepard', 1), ('TonyDanza', 1), ('KellyReilly', 1), ('PaulSidhu', 1), ('BrandenColes', 1), ('ArielleHolmes', 1), ('KelceyWatson', 1), ('JonDaly', 1), ('ShameikMoore', 1), ('KierseyClemons', 1), ('KimberlyElise', 1), ('IndiaEisley', 1), ('StephenRea', 1), ('StormAchecheSahlstrøm', 1), ('JaredPadalecki', 1), ('AmandaRighetti', 1), ('DerekMears', 1), ('DaniellePanabaker', 1), ('BokeemWoodbine', 1), ('LyndsyFonseca', 1), ('MichaelDoneger', 1), ('TommyDewey', 1), ('BruceCampbell', 1), ('DickVanDyke', 1), ('RandallPark', 1), ('Hee-BongByun', 1), ('Hae-ilPark', 1), ('DoonaBae', 1), ('AmberPerkins', 1), ('RachelQuinn', 1), ('DeanWaite', 1), ('JaelElizabethSteinmeyer', 1), ('BenBurtt', 1), ('ElissaKnight', 1), ('JeffGarlin', 1), ('FredWillard', 1), ('HeatherSossaman', 1), ('MatthewBohrer', 1), ('CourtneyHalverson', 1), ('ShelleyHennig', 1), ('AlysonHannigan', 1), ('SeannWilliamScott', 1), ('ChrisKlein', 1), ('BrianHowe', 1), ('DaríoGrandinetti', 1), ('MaríaMarull', 1), ('MónicaVilla', 1), ('RitaCortese', 1), ('JorgeGarcia', 1), ('PaulaBeer', 1), ('ErnstStötzner', 1), ('MarieGruber', 1), (\"SofiaBlack-D'Elia\", 1), ('TravisTope', 1), ('MichaelKelly', 1), ('ClintEastwood', 1), ('BeeVang', 1), ('ChristopherCarley', 1), ('AhneyHer', 1), ('RiccardoScamarcio', 1), ('DanCrisafulli', 1), ('KayWhitney', 1), ('RichardGarcia', 1), ('PatCashman', 1), ('RachaelBlake', 1), ('BridgetteBarrett', 1), ('LucyFry', 1), ('GabrielByrne', 1), ('JeffreyDeanMorgan', 1), ('JormaTaccone', 1), ('AkivaSchaffer', 1), ('DavidTroughton', 1), ('JackHolden', 1), ('JoeBlakemore', 1), ('ChristianStolte', 1), ('EllarColtrane', 1), ('PatriciaArquette', 1), ('ElijahSmith', 1), ('NoelFisher', 1), ('ArminMueller-Stahl', 1), ('JosefAltin', 1), ('NicholasHope', 1), ('VictoriaJustice', 1), ('MichaelMcDonald', 1), ('AndréMarcon', 1), ('RomanKolinka', 1), ('EdithScob', 1), ('DaleDickey', 1), ('JessicaBarth', 1), ('KagisoKuypers', 1), ('AlessandroNivola', 1), ('JamesHamrick', 1), ('BrianGeraghty', 1), ('AndreBraugher', 1), ('50Cent', 1), ('ChristianCooke', 1), ('JaimeWinstone', 1), ('MaeWhitman', 1), ('BellaThorne', 1), ('AllisonJanney', 1), ('Ji-minHan', 1), ('JasperNewell', 1), ('ChloëSevigny', 1), ('EmmaGreenwell', 1), ('JamieCampbellBower', 1), ('RobertSheehan', 1), ('JemimaWest', 1), ('DerekJacobi', 1), ('StuartGraham', 1), ('LaineMegaw', 1), ('BrianMilligan', 1), ('LiamMcMahon', 1), ('HaydenChristensen', 1), ('RachelBilson', 1), ('TimAllen', 1), ('JoanCusack', 1), ('NedBeatty', 1), ('AryanaEngineer', 1), ('AliaBhatt', 1), ('ShahRukhKhan', 1), ('KunalKapoor', 1), ('PriyankaMoodley', 1), ('SurajSharma', 1), ('AdilHussain', 1), ('Tabu', 1), ('Cary-HiroyukiTagawa', 1), ('StevenYeun', 1), ('AstridBergès-Frisbey', 1), ('BritMarling', 1), ('MaggieQ', 1), ('WesleyElder', 1), ('ChristinaGrimmie', 1), ('OsricChau', 1), ('OlanRogers', 1), ('BradyCorbet', 1), ('JoelMcHale', 1), ('SheaAdams', 1), ('EddieBaroo', 1), ('MauricioLopez', 1), ('JoshStewart', 1), ('BillEngvall', 1), ('AlexEssoe', 1), ('LisaThoreson', 1), ('FlorenceKastriner', 1), ('EmmanuelGarijo', 1), ('TomHudson', 1), ('BaptisteGoy', 1), ('AxelDevillers', 1), ('LubnaAzabal', 1), ('MélissaDésormeaux-Poulin', 1), ('MaximGaudette', 1), ('MustafaKamel', 1), ('JerryStiller', 1), ('BrittanyMurphy', 1), ('KevinConnolly', 1), ('JerryFerrara', 1), ('KevinDillon', 1), ('ScottSpeedman', 1), ('GemmaWard', 1), ('AlexFisher', 1), ('GabyHoffmann', 1), ('JamesAllenMcCune', 1), ('CallieHernandez', 1), ('CorbinReid', 1), ('BrandonScott', 1), ('JackieChan', 1), ('WenwenHan', 1), ('JennaElfman', 1), ('RufusSewell', 1), ('SheilaKelley', 1), ('JoelDavidMoore', 1), ('AasifMandvi', 1), ('MiaStallard', 1), ('JeanReno', 1), ('EddieMurphy', 1), ('NataschaMcElhone', 1), ('ChristopherLee', 1), ('KiernanShipka', 1), ('LaurenHolly', 1), ('BrianDennehy', 1), ('BrendanFraser', 1), ('EllaAnderson', 1), ('UsherRaymond', 1), ('RubénBlades', 1), ('RicardoDarín', 1), ('SoledadVillamil', 1), ('PabloRago', 1), ('CarlaQuevedo', 1), ('EmilyRatajkowski', 1), ('JonnyWeston', 1), ('BrianWhite', 1), ('KarruecheTran', 1), ('AngeliquePereira', 1), ('JessicaVanessaDeLeon', 1), ('TaissaFarmiga', 1), ('SteveTom', 1), ('ElizabethReaser', 1), ('LuluWilson', 1), ('HenryThomas', 1), ('KarenGillan', 1), ('RoryCochrane', 1), ('ElizabethBerrington', 1), ('TilSchweiger', 1), ('TatianaPauhofová', 1), ('KarlMarkovics', 1), ('GedeonBurkhard', 1), ('SimonaStasová', 1), ('DermotMulroney', 1), ('DiegoKlattenhoff', 1), ('LarenzTate', 1), ('MeaganGood', 1), ('Rotimi', 1), ('RickGonzalez', 1), ('FreddieHighmore', 1), ('JonathanRhysMeyers', 1), ('MaxBurkholder', 1), ('AdelaideKane', 1), ('AnushkaSharma', 1), ('SanjayDutt', 1), ('BomanIrani', 1), ('KarenAllen', 1), ('CaraDelevingne', 1), ('AustinAbrams', 1), ('JusticeSmith', 1), ('AnthonyLaPaglia', 1), ('SeanPatrickThomas', 1), ('MalcolmMcDowell', 1), ('RichardBrake', 1), ('JeffDanielPhillips', 1), ('SheriMoonZombie', 1), ('LoganHuffman', 1), ('AlexanderLudwig', 1), ('MaddyCurley', 1), ('JohnDeLuca', 1), ('NikkiSooHoo', 1), ('DrewSeeley', 1), ('MalcolmSinclair', 1), ('RaghuvirJoshi', 1), ('JanuaryJones', 1), ('AidanQuinn', 1), ('NatalieMartinez', 1), ('DemiMoore', 1), ('DaneCook', 1), ('CallumTurner', 1), ('GraceVanPatten', 1), ('MichalVondel', 1), ('EmmaFitzpatrick', 1), ('JohnCullum', 1), ('BarkhadAbdirahman', 1), ('AidanTurner', 1), ('BenWinchell', 1), ('JoshBrener', 1), ('AndyGarcia', 1), ('IkeBarinholtz', 1), (\"JohnD'Leo\", 1), ('CraigRobinson', 1), ('GerryBednob', 1), ('GaspardSchlatter', 1), ('SixtineMurat', 1), ('PaulinJaccoud', 1), ('MichelVuillermoz', 1), ('MandyGonzalez', 1), ('AshtonKutcher', 1), ('KevinKline', 1), ('CaryElwes', 1), ('JeremyDavies', 1), ('ZachGrenier', 1), ('BenjaminBratt', 1), ('MirandaCosgrove', 1), ('BoydHolbrook', 1), ('Lily-RoseDepp', 1), ('HarleyQuinnSmith', 1), ('ChristopherWalken', 1), ('CrispinGlover', 1), ('MaryMcCormack', 1), ('PaulBirchard', 1), ('JessicaLange', 1), ('TomFelton', 1), ('TomSizemore', 1), ('MunroChambers', 1), ('LaurenceLeboeuf', 1), ('MichaelIronside', 1), ('EdwinWright', 1), ('MeganCharpentier', 1), ('IsabelleNélisse', 1), ('IsabelleFuhrman', 1), ('CCHPounder', 1), ('WoodyAllen', 1), ('JasonBarry', 1), ('KarenMoskow', 1), ('KaiRyssdal', 1), ('AmberTamblyn', 1), ('SeanBott', 1), ('WardHorton', 1), ('AlfreWoodard', 1), ('TonyAmendola', 1), ('KatieCassidy', 1), ('ElizabethHenstridge', 1), ('AdamCampbell', 1), ('KristinScottThomas', 1), ('EricGodon', 1), ('LilyCole', 1), ('MarlonWayans', 1), ('MichaelC.Hall', 1), ('MariaDizzia', 1), ('MichaelVartan', 1), ('CharlieHeaton', 1), ('MarkChao', 1), ('NiNi', 1), ('DannyTrejo', 1), ('CarmenElectra', 1), ('VanessaLachey', 1), ('NicoleParker', 1), ('AntonioTarver', 1), ('MiloVentimiglia', 1), ('BurtYoung', 1), ('SuElliot', 1), ('AlexisDziena', 1), ('AdrianTitieni', 1), ('Maria-VictoriaDragus', 1), ('LiaBugnar', 1), ('MalinaManovici', 1), ('JohnTurturro', 1), ('EmmanuelleChriqui', 1), ('NickSwardson', 1), ('ChristopherMcDonald', 1), ('MiraSorvino', 1), ('KariMatchett', 1), ('ZacharyBennett', 1), ('KeithDavid', 1), ('BrunoCampos', 1), ('EthanSuplee', 1), ('JimParsons', 1), ('SteveMartin', 1), ('SylviaHoeks', 1), ('SophieNélisse', 1), ('JoeCobden', 1), ('T.R.Knight', 1), ('NicoleBeharie', 1), ('AaronYoo', 1), ('AdamLevine', 1), ('ChristopherEvanWelch', 1), ('ReginaHall', 1), ('AnthonyAnderson', 1), ('Eve', 1), ('MoonBloodgood', 1), ('ImeldaStaunton', 1), ('TedLevine', 1), ('KathleenQuinlan', 1), ('ColmFeore', 1), ('GattlinGriffith', 1), ('CaitlynRund', 1), ('MoisésAcevedo', 1), ('MiyuIrino', 1), ('SaoriHayami', 1), ('KenshôOno', 1), ('AidenLongworth', 1), ('JunoTemple', 1), ('TijuanaRicks', 1), ('SueDahlman', 1), ('RolfLassgård', 1), ('BaharPars', 1), ('FilipBerg', 1), ('IdaEngvoll', 1), ('JustinChatwin', 1), ('JamesMarsters', 1), ('Yun-FatChow', 1), ('EmmyRossum', 1), ('IsabelLucas', 1), ('JoshPeck', 1), ('TomMison', 1), ('JoshLucas', 1), ('AlexisClagett', 1), ('RobertCarlyle', 1), ('HaroldPerrineau', 1), ('JohnMalkovich', 1), ('AdriannePalicki', 1), ('HirokiHasegawa', 1), ('YutakaTakenouchi', 1), ('SatomiIshihara', 1), ('RenÔsugi', 1), ('AnnieRoseBuckley', 1), ('GeorgeLopez', 1), ('KarenDisher', 1), ('VernettaLopez', 1), ('ScottLawrence', 1), ('GaelGarcíaBernal', 1), ('MohamedAkhzam', 1), ('HunterMcCracken', 1), ('TaylorSchilling', 1), ('RileyThomasStewart', 1), ('ElisabethShue', 1), (\"JerryO'Connell\", 1), ('DylanDuffus', 1), ('Scorcher', 1), ('ShoneRomulus', 1), ('JadeAsha', 1), ('MaudeApatow', 1), ('IrisApatow', 1), ('DakotaGoyo', 1), ('JulieBenz', 1), ('MatthewMarsden', 1), ('GrahamMcTavish', 1), ('FreddyRodríguez', 1), ('MarleyShelton', 1), ('LeePace', 1), ('CatincaUntaru', 1), ('JustineWaddell', 1), ('KimUylenbroek', 1), ('BreeTurner', 1), ('EricWinter', 1), ('CandiceBergen', 1), ('BryanGreenberg', 1), ('JordanCarlos', 1), ('MargaritaLevieva', 1), ('JuliannaMargulies', 1), ('NathanPhillips', 1), ('RachelBlanchard', 1), ('ZoeKazan', 1), ('MeganPark', 1), ('MaxGreenfield', 1), ('TyneDaly', 1), ('MichaelMantell', 1), ('MichaelRooker', 1), ('DonThompson', 1), ('TobyJones', 1), ('PaulaPrentiss', 1), ('AnnaSophiaRobb', 1), ('EmilyBaldoni', 1), ('MaurySterling', 1), ('NicholasBrendon', 1), ('ElizabethGracen', 1), ('JamalWoolard', 1), ('DerekLuke', 1), ('MomoDione', 1), ('JunKunimura', 1), ('Jung-minHwang', 1), ('Do-wonKwak', 1), ('Woo-heeChun', 1), ('RandyCouture', 1), ('WilliamAtherton', 1), ('BlytheAuffarth', 1), ('BlancheBaker', 1), ('KevinChamberlin', 1), ('FrancescAlbiol', 1), ('DakotaBlueRichards', 1), ('BenWalker', 1), ('AndreasWisniewski', 1), ('LoganMiller', 1), ('JoeyMorgan', 1), ('SarahDumont', 1), ('MatthewPerry', 1), ('ChatchawaiKamonsakpitak', 1), ('BrandonRouth', 1), ('GaboureySidibe', 1), (\"Mo'Nique\", 1), ('MariahCarey', 1), ('RyokoSeta', 1), ('NicholasBraun', 1), ('MateoArias', 1), ('IsraelBroussard', 1), ('JessePlemons', 1), ('KennyWormald', 1), ('AndieMacDowell', 1), ('JamieBlackley', 1), ('JoshuaLeonard', 1), ('BelPowley', 1), ('StephenMoyer', 1), ('SamanthaRobinson', 1), ('JeffreyVincentParise', 1), ('LauraWaddell', 1), ('GianKeys', 1), ('DieterLaser', 1), ('AshleyC.Williams', 1), ('AshlynnYennie', 1), ('AkihiroKitamura', 1), ('RainnWilson', 1), ('BrookeShields', 1), ('GabrielLuna', 1), ('DavidAcord', 1), ('AriGraynor', 1), ('JordiMollà', 1), ('MelissaGeorge', 1), ('JoshuaMcIvor', 1), ('JackTaylor', 1), ('MichaelDorman', 1), ('GarrettClayton', 1), ('ChristianSlater', 1), ('MollyRingwald', 1), ('JamesKelley', 1), ('SophieOkonedo', 1), ('JahkingGuillory', 1), ('ChristopherJordanWallace', 1), ('ChristopherMeyer', 1), ('KofiSiriboe', 1), ('RJCyler', 1), ('OliviaCooke', 1), ('AmaraMiller', 1), ('NickKrause', 1), ('NickRobinson', 1), ('MoisesArias', 1), ('PaulBettany', 1), ('CharlesS.Dutton', 1), ('AmericaFerrera', 1), ('ConnieNielsen', 1), ('JoshHartnett', 1), ('LucyLiu', 1), ('DannySapani', 1), ('CallumKeithRennie', 1), ('SarahButler', 1), ('JeffBranson', 1), ('AndrewHoward', 1), ('DanielFranzese', 1), ('HaydenPanettiere', 1), ('CatalinaSandinoMoreno', 1), ('KarolinaGruszka', 1), ('LambertWilson', 1), ('GuillaumeBaillargeon', 1), ('ÉmilieLeclerc', 1), ('AndreaWhitburn', 1), ('JenniferKoenig', 1), ('MichaelDickson', 1), ('TaniaRaymonde', 1), ('TreySongz', 1), ('Carrie-AnneMoss', 1), ('DiegoBoneta', 1), ('NeveCampbell', 1), ('CourteneyCox', 1), ('DavidArquette', 1), ('LucyHale', 1), ('MadinaNalwanga', 1), (\"LupitaNyong'o\", 1), ('MartinKabanza', 1), ('NiaVardalos', 1), ('MichaelConstantine', 1), ('LainieKazan', 1), ('JanetMontgomery', 1), ('AshleyTisdale', 1), ('BriaL.Murphy', 1), ('NathalieBaye', 1), ('ElenaAnaya', 1), ('JanCornet', 1), ('MarisaParedes', 1), ('KylieRogers', 1), ('BrightonSharbino', 1), ('QuvenzhanéWallis', 1), ('DanaFuchs', 1), ('JakeJohnson', 1), ('DamonWayansJr.', 1), ('NinaDobrev', 1), ('LukeKleintank', 1), ('LaurenGraham', 1), ('RasmusHardiker', 1), (\"NicholasD'Agosto\", 1), ('EmmaBell', 1), ('ArlenEscarpeta', 1), ('MorjanaAlaoui', 1), ('MylèneJampanoï', 1), ('CatherineBégin', 1), ('RobertToupin', 1), ('CarmenEjogo', 1), ('LorraineToussaint', 1), ('StevenMackintosh', 1), ('DarsheelSafary', 1), ('TanayChheda', 1), ('SachetEngineer', 1), ('KimCoates', 1), ('OliverCooper', 1), ('JonathanDanielBrown', 1), ('DaxFlame', 1), ('DeanNorris', 1), ('LaurenGerman', 1), ('HeatherMatarazzo', 1), ('BijouPhillips', 1), ('RogerBart', 1), ('RobertHoffman', 1), ('BrianaEvigan', 1), ('CassieVentura', 1), ('AdamG.Sevani', 1), ('AdamPally', 1), ('ThomasMiddleditch', 1), ('ShannonWoodward', 1), ('CherylHines', 1), ('LoganMarshall-Green', 2), ('HaleyLuRichardson', 2), ('EssieDavis', 2), ('KennethBranagh', 2), ('TomHolland', 2), ('LaurenceFishburne', 2), ('KatherineWaterston', 2), ('DanFogler', 2), ('TarajiP.Henson', 2), ('OctaviaSpencer', 2), ('RachelHouse', 2), ('EricStonestreet', 2), ('LakeBell', 2), ('MichaelStuhlbarg', 2), ('CoreyStoll', 2), ('ChristinaApplegate', 2), ('AliLarter', 2), ('MahershalaAli', 2), ('LindaCardellini', 2), ('DemiánBichir', 2), ('TonyRevolori', 2), ('JeremyIrvine', 2), ('AdèleExarchopoulos', 2), ('HeathLedger', 2), ('StephenLang', 2), ('EmiliaClarke', 2), ('MichaelMcElhatton', 2), ('JustinTheroux', 2), ('JenniferEhle', 2), ('ZoëKravitz', 2), (\"JasonO'Mara\", 2), ('DouglasM.Griffin', 2), ('TobyKebbell', 2), ('OrlandoBloom', 2), ('MélanieLaurent', 2), ('JackDavenport', 2), ('AnnaliseBasso', 2), ('TylerPerry', 2), ('TySimpkins', 2), ('JudyGreer', 2), ('JenniferJasonLeigh', 2), ('MattBomer', 2), ('AoiYuki', 2), ('GilBirmingham', 2), ('JasonMomoa', 2), ('MichaelGambon', 2), ('OliviaMunn', 2), ('ChristinaHendricks', 2), ('KarlGlusman', 2), ('AubreyPlaza', 2), ('NicolaPeltz', 2), ('JackReynor', 2), ('StanleyTucci', 2), ('DaveFranco', 2), ('WillPoulter', 2), ('TobeyMaguire', 2), ('KitHarington', 2), ('RachaelHarris', 2), ('BlakeJenner', 2), ('CarlaGugino', 2), ('MarkRylance', 2), ('JustinBartha', 2), ('AdrianMartinez', 2), ('BenicioDelToro', 2), ('AnnabelleWallis', 2), ('CobieSmulders', 2), ('BillyBurke', 2), ('DavidDenman', 2), ('ReneRusso', 2), ('RizAhmed', 2), ('ArtParkinson', 2), ('JoshGad', 2), ('EvangelineLilly', 2), ('RenéeZellweger', 2), ('RichardMadden', 2), ('BarryWard', 2), ('RoseLeslie', 2), ('CliftonCollinsJr.', 2), ('MarciaGayHarden', 2), ('MatthewGoode', 2), ('DaneDeHaan', 2), ('MiaGoth', 2), ('TerrenceHoward', 2), ('JeffDaniels', 2), ('KevinBacon', 2), ('LaurentLucas', 2), ('GolshiftehFarahani', 2), ('VanessaHudgens', 2), ('ElizabethOlsen', 2), ('ChadwickBoseman', 2), ('RobertRedford', 2), ('LucasTill', 2), ('ThomasLennon', 2), ('DanilaKozlovsky', 2), ('LarrytheCableGuy', 2), ('RileyKeough', 2), ('OliviaColman', 2), ('AdrienBrody', 2), ('MichaelChiklis', 2), ('KerryBishé', 2), ('PeterStormare', 2), ('GretaGerwig', 2), ('MathieuAmalric', 2), ('AmyPoehler', 2), ('LewisBlack', 2), ('LukeWilson', 2), ('ArnoldSchwarzenegger', 2), ('BrandonT.Jackson', 2), ('OmarSy', 2), ('DianeLane', 2), ('BrooklynDecker', 2), ('Rihanna', 2), ('FreidaPinto', 2), ('KyleGallner', 2), ('LorenzaIzzo', 2), ('AnadeArmas', 2), ('AaronBurns', 2), ('HalleBerry', 2), ('HughGrant', 2), ('RyanGuzman', 2), ('ZoëBell', 2), ('JohnHurt', 2), ('JenaMalone', 2), ('GalGadot', 2), ('SeanBean', 2), ('YooGong', 2), ('BrittanySnow', 2), ('AdrianGrenier', 2), ('DanielDay-Lewis', 2), ('MartonCsokas', 2), ('DavidHarbour', 2), ('AnnaHutchison', 2), ('AliceEve', 2), ('MikeVogel', 2), ('LucasBlack', 2), ('JaeHead', 2), ('NickDamici', 2), ('EdOxenbould', 2), ('JordanaBrewster', 2), ('JennaDewanTatum', 2), ('ElijahWood', 2), ('JessicaBrownFindlay', 2), ('AntonYelchin', 2), ('AliaShawkat', 2), ('SallyField', 2), ('DavidStrathairn', 2), ('AnselElgort', 2), ('WendiMcLendon-Covey', 2), ('OonaLaurence', 2), ('RayStevenson', 2), ('AdamBrody', 2), ('JohnnySimmons', 2), ('JudyDavis', 2), ('MarySteenburgen', 2), ('AldenEhrenreich', 2), ('LiaMarieJohnson', 2), ('RodrigoSantoro', 2), ('KayaScodelario', 2), ('ThomasBrodie-Sangster', 2), ('AntonioBanderas', 2), ('AlanAlda', 2), ('MartinHenderson', 2), ('PeterDinklage', 2), ('Keegan-MichaelKey', 2), ('EllieKendrick', 2), ('ChrisRock', 2), ('DavidSpade', 2), ('WilliamHurt', 2), ('RobRiggle', 2), ('LinShaye', 2), ('LianaLiberato', 2), ('IsabelleHuppert', 2), ('JessicaAlba', 2), ('MichaelParks', 2), ('AngelaBassett', 2), ('MireilleEnos', 2), ('ScottEastwood', 2), ('LaurieHolden', 2), ('OliviaThirlby', 2), ('SamNeill', 2), ('GabriellaWilde', 2), ('CamGigandet', 2), ('TimothyOlyphant', 2), ('DiannaAgron', 2), ('TimothySpall', 2), ('JasonSchwartzman', 2), ('JessicaLucas', 2), ('LizzyCaplan', 2), ('LeslieBibb', 2), ('ToniCollette', 2), ('TracyLetts', 2), ('JaneFonda', 2), ('DavidThewlis', 2), ('RhonaMitra', 2), ('AmandaBynes', 2), ('DanByrd', 2), ('AnikaNoniRose', 2), ('JodieFoster', 2), ('ScottGlenn', 2), ('BruceGreenwood', 2), ('HilarySwank', 2), ('LisaKudrow', 2), ('RichardDreyfuss', 2), ('MikeBirbiglia', 2), ('JenniferLopez', 2), ('JohnCorbett', 2), ('LukeEvans', 2), ('JamesRansone', 2), ('SarahSilverman', 2), (\"JackO'Connell\", 2), ('SusanSarandon', 2), ('PatrickDempsey', 2), ('DaveBautista', 2), ('Jean-ClaudeVanDamme', 2), ('JamesFrecheville', 2), ('MatthiasSchoenaerts', 2), ('VinnieJones', 2), ('DjimonHounsou', 2), ('ErinMoriarty', 2), ('Mary-LouiseParker', 2), ('MichaelEaly', 2), ('RobinWilliams', 2), ('Kang-hoSong', 2), ('JasonBiggs', 2), ('PierreNiney', 2), ('AnaleighTipton', 2), ('EwenLeslie', 2), ('GaryCole', 2), ('TonyShalhoub', 2), ('JoelKinnaman', 2), ('RobbieAmell', 2), ('Byung-hunLee', 2), ('SiennaGuillory', 2), ('AdewaleAkinnuoye-Agbaje', 2), ('SarahRoemer', 2), ('MichaelPitt', 2), ('BillyBobThornton', 2), ('RonnieGeneBlevins', 2), ('RobertDuvall', 2), ('SalmaHayek', 2), ('PatriciaClarkson', 2), ('AudreyTautou', 2), ('LucyBoynton', 2), ('WesBentley', 2), ('NathanFillion', 2), ('KateeSackhoff', 2), ('BarkhadAbdi', 2), ('CraigFerguson', 2), ('BobBalaban', 2), ('EllenBurstyn', 2), ('MattLanter', 2), ('MilesFisher', 2), ('NadineVelazquez', 2), ('DevonBostick', 2), ('DonaldSutherland', 2), ('WentworthMiller', 2), ('SallyHawkins', 2), ('OprahWinfrey', 2), ('JoshWiggins', 2), ('EmiliedeRavin', 2), ('RuthWilson', 2), ('MaxMinghella', 2), ('JoeAnderson', 2), ('VingRhames', 2), ('BlytheDanner', 2), ('SarahJessicaParker', 2), ('KimCattrall', 2), ('KristinDavis', 2), ('DavidMorse', 2), ('RobertPatrick', 2), ('ThomasMann', 2), ('EvanRachelWood', 2), ('AnyaTaylor-Joy', 3), ('JaredLeto', 3), ('AndreaRiseborough', 3), ('CharlieHunnam', 3), ('MichaelSheen', 3), ('KevinHart', 3), ('LukeBracey', 3), ('MaikaMonroe', 3), ('KathrynHahn', 3), ('MichaelShannon', 3), (\"VincentD'Onofrio\", 3), ('GuguMbatha-Raw', 3), ('JaredHarris', 3), ('OscarIsaac', 3), ('KateHudson', 3), ('JuliaRoberts', 3), ('MichaelNyqvist', 3), ('JaneLevy', 3), ('DylanMinnette', 3), ('GemmaArterton', 3), ('LauraLinney', 3), ('RebeccaFerguson', 3), ('TaronEgerton', 3), ('KenWatanabe', 3), ('ViggoMortensen', 3), ('JonBernthal', 3), ('MelissaLeo', 3), ('DominicCooper', 3), ('ChristophWaltz', 3), ('JohnGallagherJr.', 3), ('JimCarrey', 3), ('DominicWest', 3), ('MaryElizabethWinstead', 3), ('AlbertBrooks', 3), ('BillMurray', 3), ('EmmaRoberts', 3), ('EvaMendes', 3), ('CareyMulligan', 3), ('EmilyMortimer', 3), ('DakotaFanning', 3), ('ZacharyGordon', 3), ('RobertCapron', 3), ('JacobTremblay', 3), ('MichaelCera', 3), ('BillHader', 3), ('IrrfanKhan', 3), ('JemaineClement', 3), ('KieferSutherland', 3), ('NickFrost', 3), ('PatrickStewart', 3), ('JeffreyWright', 3), ('LéaSeydoux', 3), ('BillPaxton', 3), ('JoaquinPhoenix', 3), ('KeriRussell', 3), ('AndySerkis', 3), ('KodiSmit-McPhee', 3), ('JimBroadbent', 3), ('LilyJames', 3), ('HugoWeaving', 3), ('CatherineKeener', 3), ('TerryCrews', 3), ('SelenaGomez', 3), ('BrentonThwaites', 3), ('NikolajCoster-Waldau', 3), ('NicolasCage', 3), ('EdHelms', 3), ('TopherGrace', 3), ('AliceBraga', 3), ('JessicaBiel', 3), ('EzraMiller', 3), ('BillyCrudup', 3), ('CliveOwen', 3), ('PaulGiamatti', 3), ('MariaBello', 3), ('RichardGere', 3), ('TessaThompson', 3), ('WillArnett', 3), ('RichardArmitage', 3), ('IceCube', 3), ('OlgaKurylenko', 3), ('DonCheadle', 3), ('AmberHeard', 3), ('JonHamm', 3), ('JohnLeguizamo', 3), ('PaulDano', 3), ('TaylorKitsch', 3), ('EmoryCohen', 3), ('EdHarris', 3), ('ConnorPaolo', 3), ('OliviaWilde', 3), ('AndySamberg', 3), ('KateBosworth', 3), ('ThomasJane', 3), ('NatWolff', 3), ('LauraDern', 3), ('ThomasHadenChurch', 3), ('MatthewMacfadyen', 3), ('WilliamFichtner', 3), ('GabrielBasso', 3), (\"DylanO'Brien\", 3), ('MichaelB.Jordan', 3), ('JetLi', 3), ('SeanPenn', 3), ('MichielHuisman', 3), ('LivTyler', 3), ('JonFavreau', 3), ('AlexPettyfer', 3), ('JasonSegel', 3), ('FamkeJanssen', 3), ('MichelleYeoh', 3), ('JustinLong', 3), ('MickeyRourke', 3), ('JoanAllen', 3), ('EwanMcGregor', 3), ('JohnCusack', 3), ('AlfredMolina', 3), ('DannyMcBride', 3), ('MichellePfeiffer', 3), ('JulianneHough', 3), ('RayWinstone', 3), ('TinaFey', 3), ('CynthiaNixon', 3), ('RobinWright', 3), ('EmmaThompson', 3), ('SachaBaronCohen', 3), ('SamRockwell', 3), ('OliverPlatt', 3), ('KatherineHeigl', 3), ('JadenSmith', 3), ('AlanRickman', 3), ('LilyCollins', 3), ('DanStevens', 3), ('RoseMcGowan', 3), ('DavidOyelowo', 3), ('TyeSheridan', 3), ('ReeseWitherspoon', 4), ('SethMacFarlane', 4), ('EddieRedmayne', 4), ('DiegoLuna', 4), ('TommyLeeJones', 4), ('ForestWhitaker', 4), ('MichelleWilliams', 4), ('KyleChandler', 4), ('JustinTimberlake', 4), ('ZooeyDeschanel', 4), ('ChristopherMintz-Plasse', 4), ('KristenBell', 4), ('JeremyIrons', 4), ('MillaJovovich', 4), ('BenedictCumberbatch', 4), ('NickOfferman', 4), ('PenélopeCruz', 4), ('IanMcShane', 4), ('ZacharyQuinto', 4), ('KarlUrban', 4), ('AdamDriver', 4), ('SamClaflin', 4), ('JackHuston', 4), ('HenryCavill', 4), ('EmileHirsch', 4), ('HaleyBennett', 4), ('DakotaJohnson', 4), ('JamieDornan', 4), ('MelissaMcCarthy', 4), ('PaulWalker', 4), ('EmilyBrowning', 4), ('TomHiddleston', 4), ('ArmieHammer', 4), ('AlexanderSkarsgård', 4), ('RupertGrint', 4), ('AamirKhan', 4), ('EvaGreen', 4), ('AsaButterfield', 4), ('JudiDench', 4), ('JaiCourtney', 4), ('PierceBrosnan', 4), ('GuyPearce', 4), ('SteveZahn', 4), ('MalinAkerman', 4), ('CharlieDay', 4), ('HelenMirren', 4), ('DanielBrühl', 4), ('JamesBadgeDale', 4), ('BrittRobertson', 4), ('JackBlack', 4), ('GarrettHedlund', 4), ('MiaWasikowska', 4), ('VinceVaughn', 4), ('AmyRyan', 4), ('GwynethPaltrow', 4), ('MayaRudolph', 4), ('AlexandraDaddario', 4), ('TyreseGibson', 4), ('PeterSarsgaard', 4), ('AlecBaldwin', 4), ('ZachGalifianakis', 4), ('BenWhishaw', 4), ('RebelWilson', 4), ('MaggieGrace', 4), ('CiaránHinds', 4), ('AnnaFaris', 4), ('JayBaruchel', 4), ('AlisonBrie', 4), ('TildaSwinton', 4), ('TomWilkinson', 4), ('ThandieNewton', 4), ('ImogenPoots', 4), ('BruceWillis', 4), ('AbigailBreslin', 4), ('TaylorLautner', 4), ('ElizabethBanks', 4), ('KevinJames', 4), ('HarrisonFord', 4), ('JamesMarsden', 4), ('SarahGadon', 4), ('AaronPaul', 4), ('JenniferConnelly', 4), ('PhilipSeymourHoffman', 4), ('XavierSamuel', 4), ('KevinSpacey', 4), ('DustinHoffman', 4), ('NoomiRapace', 5), ('MargotRobbie', 5), ('J.K.Simmons', 5), ('SiennaMiller', 5), ('KevinCostner', 5), ('FelicityJones', 5), ('VincentCassel', 5), ('DevPatel', 5), ('EdgarRamírez', 5), ('MarionCotillard', 5), ('MichaelKeaton', 5), ('GeoffreyRush', 5), ('AaronEckhart', 5), ('BillNighy', 5), ('ColinFirth', 5), ('KurtRussell', 5), ('CharlotteLeBon', 5), ('SigourneyWeaver', 5), ('EdwardNorton', 5), ('MichaelPeña', 5), ('DianeKruger', 5), ('EllenPage', 5), ('MichelleRodriguez', 5), ('PaulaPatton', 5), ('AnthonyHopkins', 5), ('KateMara', 5), ('LenaHeadey', 5), ('StellanSkarsgård', 5), ('BlakeLively', 5), ('BrieLarson', 5), ('JamieFoxx', 5), ('JulianneMoore', 5), ('BenStiller', 5), ('PaulRudd', 5), ('LievSchreiber', 5), ('MeganFox', 5), ('JoshDuhamel', 5), ('TimRoth', 5), ('ChristopherPlummer', 5), ('SaoirseRonan', 5), ('SandraBullock', 5), ('AndrewScott', 5), ('KirstenDunst', 5), ('RichardJenkins', 5), ('RonPerlman', 5), ('EricBana', 5), ('DennisQuaid', 5), ('AnthonyMackie', 5), ('CameronDiaz', 5), ('JimSturgess', 5), ('ZoeSaldana', 6), ('WillemDafoe', 6), ('RobertPattinson', 6), ('AndrewGarfield', 6), ('SamWorthington', 6), ('AliciaVikander', 6), ('NicoleKidman', 6), ('BryceDallasHoward', 6), ('CaseyAffleck', 6), ('BrendanGleeson', 6), ('ZoeyDeutch', 6), ('AaronTaylor-Johnson', 6), ('NicholasHoult', 6), ('T.J.Miller', 6), ('JavierBardem', 6), ('DomhnallGleeson', 6), ('KateBeckinsale', 6), ('TheoJames', 6), ('KeanuReeves', 6), ('MichaelCaine', 6), ('BenAffleck', 6), ('JohnGoodman', 6), ('JenniferGarner', 6), ('IdrisElba', 6), ('RosamundPike', 6), ('JasonStatham', 6), ('ElleFanning', 6), ('BenFoster', 6), ('MilesTeller', 6), ('JeffBridges', 6), ('LeslieMann', 6), ('MerylStreep', 6), ('AmandaSeyfried', 6), ('HaileeSteinfeld', 6), ('JoshHutcherson', 6), ('MartinFreeman', 6), ('CillianMurphy', 6), ('IanMcKellen', 6), ('DanielCraig', 6), ('VeraFarmiga', 6), ('HelenaBonhamCarter', 6), ('ColinFarrell', 6), ('LoganLerman', 6), ('JasonClarke', 6), ('JudeLaw', 6), ('CharlotteGainsbourg', 6), ('RosarioDawson', 6), ('AbbieCornish', 6), ('JohnC.Reilly', 6), ('RebeccaHall', 6), ('ChrisPratt', 7), ('VinDiesel', 7), ('ViolaDavis', 7), ('JasonSudeikis', 7), ('TeresaPalmer', 7), ('RooneyMara', 7), ('LiamHemsworth', 7), ('RyanReynolds', 7), ('RachelMcAdams', 7), ('EthanHawke', 7), ('KristenWiig', 7), ('BryanCranston', 7), ('KateWinslet', 7), ('KeiraKnightley', 7), ('MarkRuffalo', 7), ('RussellCrowe', 7), ('ShaileneWoodley', 7), ('SimonPegg', 7), ('SteveCarell', 7), ('PatrickWilson', 7), ('RalphFiennes', 7), ('AngelinaJolie', 7), ('JamieBell', 7), ('SylvesterStallone', 7), ('JeremyRenner', 8), ('MilaKunis', 8), ('JessicaChastain', 8), ('MarkStrong', 8), ('JenniferAniston', 8), ('JesseEisenberg', 8), ('EmilyBlunt', 8), ('MichelleMonaghan', 8), ('KristenStewart', 8), ('NataliePortman', 8), ('RobertDeNiro', 8), ('EmmaWatson', 8), ('ZacEfron', 8), ('GaryOldman', 8), ('JoelEdgerton', 8), ('TomCruise', 8), ('GeorgeClooney', 8), ('RachelWeisz', 8), ('WillFerrell', 8), ('JamesMcAvoy', 9), ('AmyAdams', 9), ('JamesFranco', 9), ('ChrisEvans', 9), ('ChiwetelEjiofor', 9), ('DenzelWashington', 9), ('JonahHill', 9), ('ChrisPine', 9), ('TomHanks', 9), ('SamuelL.Jackson', 9), ('JasonBateman', 9), ('JosephGordon-Levitt', 9), ('DanielRadcliffe', 9), ('BenKingsley', 9), ('WoodyHarrelson', 9), ('SharltoCopley', 9), ('NaomiWatts', 9), ('RoseByrne', 9), ('OwenWilson', 9), ('MorganFreeman', 9), ('AdamSandler', 9), ('CharlizeTheron', 10), ('MatthewMcConaughey', 10), ('WillSmith', 10), ('MattDamon', 10), ('RyanGosling', 10), ('EmmaStone', 10), ('DwayneJohnson', 10), ('LiamNeeson', 10), ('LeonardoDiCaprio', 10), ('ChrisHemsworth', 10), ('JoshBrolin', 10), ('BradleyCooper', 11), ('JenniferLawrence', 11), ('AnnaKendrick', 11), ('JakeGyllenhaal', 11), ('SethRogen', 11), ('GerardButler', 11), ('CateBlanchett', 11), ('ShiaLaBeouf', 11), ('ChloëGraceMoretz', 11), ('MichaelFassbender', 12), ('ScarlettJohansson', 12), ('AnneHathaway', 12), ('RobertDowneyJr.', 12), ('JohnnyDepp', 12), ('TomHardy', 12), ('ChanningTatum', 12), ('ChristianBale', 13), ('BradPitt', 13), ('HughJackman', 14), ('MarkWahlberg', 15)]\n"
          ]
        }
      ],
      "metadata": {
        "id": "GfB9w9UO51ur",
        "colab": {
          "base_uri": "https://localhost:8080/"
        },
        "outputId": "c9c95295-05ed-487b-fbe5-a0609a3c38db"
      }
    },
    {
      "cell_type": "markdown",
      "source": [
        "## Score Histogram\n",
        ">Draw the histogram of metascores and ratings. "
      ],
      "metadata": {
        "id": "U8qu6f7d51ur"
      }
    },
    {
      "cell_type": "code",
      "execution_count": null,
      "source": [
        "### START CODE HERE ###\n",
        "hist = films.hist(['Metascore', 'Rating'])\n",
        "### END CODE HERE ###"
      ],
      "outputs": [
        {
          "output_type": "display_data",
          "data": {
            "text/plain": [
              "<Figure size 432x288 with 2 Axes>"
            ],
            "image/png": "[encoded data removed]"
          },
          "metadata": {
            "needs_background": "light"
          }
        }
      ],
      "metadata": {
        "id": "JUf-Jl6T51ur",
        "colab": {
          "base_uri": "https://localhost:8080/",
          "height": 281
        },
        "outputId": "e2ba1ecc-8039-4522-fcfe-c2a338880b21"
      }
    },
    {
      "cell_type": "markdown",
      "source": [
        "## Correlations\n",
        ">Calculate the correlation between rating, votes and metascore of the movies.\n",
        "Is there any meaningful relation between these features? "
      ],
      "metadata": {
        "id": "_fD8olon51ur"
      }
    },
    {
      "cell_type": "code",
      "execution_count": null,
      "source": [
        "### START CODE HERE ###\n",
        "print('correlation between rating and votes is', films['Rating'].corr(films['Votes']))\n",
        "print('correlation between metascore and votes is', films['Metascore'].corr(films['Votes']))\n",
        "print('correlation between rating and metascore is', films['Rating'].corr(films['Metascore']))\n",
        "### END CODE HERE ###"
      ],
      "outputs": [
        {
          "output_type": "stream",
          "name": "stdout",
          "text": [
            "correlation between rating and votes is 0.5115373197657556\n",
            "correlation between metascore and votes is 0.3256838085336564\n",
            "correlation between rating and metascore is 0.6318965100387073\n"
          ]
        }
      ],
      "metadata": {
        "id": "4Llb2din51ur",
        "colab": {
          "base_uri": "https://localhost:8080/"
        },
        "outputId": "7ad7b701-d36c-47f1-9673-0c85cb488c85"
      }
    },
    {
      "cell_type": "markdown",
      "source": [
        "> The correllation in all 3 cases is positive and non-zero, so each of them increases when another increases. These factors are logically rellated eitherly! Its logicall for a film with more votes, to have a higher rate and metascore. "
      ],
      "metadata": {
        "id": "gEezk_ze41za"
      }
    },
    {
      "cell_type": "markdown",
      "source": [
        "# Question 3"
      ],
      "metadata": {
        "id": "kLHzx8KW51ur"
      }
    },
    {
      "cell_type": "markdown",
      "source": [
        "## File\n",
        "> Craet a .txt file and name it \"Name_actors\". You must write the name of all actors/actresses in the IMDB-Movie-Data.csv file. Don't write a name multiple time and write each name in a new line."
      ],
      "metadata": {
        "id": "xQMEJJVI51ur"
      }
    },
    {
      "cell_type": "code",
      "execution_count": null,
      "source": [
        "### START CODE HERE ###\n",
        "#actorList = [*set(actorList)]\n",
        "with open('Name_actors.txt', 'w') as na:\n",
        "  for each in namedActors:\n",
        "    na.write(each+\"\\n\")\n",
        "  na.close()\n",
        "### END CODE HERE ###"
      ],
      "outputs": [],
      "metadata": {
        "id": "li8flG_251us"
      }
    },
    {
      "cell_type": "markdown",
      "source": [
        "# Question 4"
      ],
      "metadata": {
        "id": "oXpoTAa-51us"
      }
    },
    {
      "cell_type": "markdown",
      "source": [
        "## Plot\n",
        ">You must plot the number of movies in each year according to the IMDB-Movie-Data.csv file. X-axis is year and y-axis show the number of movies in each year.\n",
        "> set the x_label, y_label and title for your plot."
      ],
      "metadata": {
        "id": "-l8ephAz51us"
      }
    },
    {
      "cell_type": "code",
      "execution_count": null,
      "source": [
        "### START CODE HERE ###\n",
        "filmInYear = films.groupby('Year').count()['Title']\n",
        "print(filmInYear)\n",
        "plt.plot(filmInYear)\n",
        "plt.title('number of films in year')\n",
        "plt.xlabel('year')\n",
        "plt.ylabel('number of films');\n",
        "plt.scatter(filmInYear.index, filmInYear)\n",
        "### END CODE HERE ###"
      ],
      "outputs": [
        {
          "output_type": "stream",
          "name": "stdout",
          "text": [
            "Year\n",
            "2006     44\n",
            "2007     53\n",
            "2008     52\n",
            "2009     51\n",
            "2010     60\n",
            "2011     63\n",
            "2012     64\n",
            "2013     91\n",
            "2014     98\n",
            "2015    127\n",
            "2016    297\n",
            "Name: Title, dtype: int64\n"
          ]
        },
        {
          "output_type": "execute_result",
          "data": {
            "text/plain": [
              "<matplotlib.collections.PathCollection at 0x7ff99d21e4f0>"
            ]
          },
          "metadata": {},
          "execution_count": 52
        },
        {
          "output_type": "display_data",
          "data": {
            "text/plain": [
              "<Figure size 432x288 with 1 Axes>"
            ],
            "image/png": "[encoded data removed]"
          },
          "metadata": {
            "needs_background": "light"
          }
        }
      ],
      "metadata": {
        "id": "pVgfjlk_51us",
        "colab": {
          "base_uri": "https://localhost:8080/",
          "height": 538
        },
        "outputId": "7f83c9ac-f989-4168-9cc4-add770c32b20"
      }
    },
    {
      "cell_type": "markdown",
      "source": [
        "## Plot\n",
        ">You must plot the cos(x) curve. plot 20 cycle of the curve. the frequency of first half of curve is 50 Hz and frequency of second lalf is 200 Hz. \n",
        "> set the x_label, y_label and title for your plot."
      ],
      "metadata": {
        "id": "-xaIS92c51us"
      }
    },
    {
      "cell_type": "code",
      "execution_count": null,
      "source": [
        "### START CODE HERE ###\n",
        "x = numpy.arange(0,1/5,0.001)   # start,stop,step\n",
        "y = numpy.cos(2*numpy.pi*50*x)\n",
        "x2 = numpy.arange(1/5,1/5 + 1/20,0.0005) \n",
        "y2 = numpy.cos(2*numpy.pi*200*x2)\n",
        "plt.subplot(211)\n",
        "plt.plot(numpy.append(x, x2),numpy.append(y, y2)) #10 cycles 50Hz 10 cycles 200Hz\n",
        "plt.title('10 cycles 50Hz 10 cycles 200Hz')\n",
        "plt.xlabel('x axis')\n",
        "plt.ylabel('cos of x');\n",
        "\n",
        "\n",
        "x3 = numpy.arange(0,0.125,0.001)   # start,stop,step\n",
        "y3 = numpy.cos(2*numpy.pi*50*x3)\n",
        "x4 = numpy.arange(0.125,0.25,0.0005) \n",
        "y4 = numpy.cos(2*numpy.pi*200*x4)\n",
        "plt.subplot(212)\n",
        "plt.plot(numpy.append(x3, x4),numpy.append(y3, y4)) #0.125 sec 50Hz 0.125 sec 200Hz\n",
        "plt.title('0.125 sec 50Hz 0.125 sec 200Hz')\n",
        "plt.xlabel('x axis')\n",
        "plt.ylabel('cos of x');\n",
        "\n",
        "plt.subplots_adjust(hspace=0.8)\n",
        "### END CODE HERE ###"
      ],
      "outputs": [
        {
          "output_type": "display_data",
          "data": {
            "text/plain": [
              "<Figure size 432x288 with 2 Axes>"
            ],
            "image/png": "[encoded data removed]"
          },
          "metadata": {
            "needs_background": "light"
          }
        }
      ],
      "metadata": {
        "id": "5VhGTsTw51us",
        "colab": {
          "base_uri": "https://localhost:8080/",
          "height": 295
        },
        "outputId": "5b85ee92-77bd-4a2f-ceab-c8f577d5e3bd"
      }
    }
  ],
  "metadata": {
    "orig_nbformat": 4,
    "language_info": {
      "name": "python",
      "version": "3.8.5",
      "mimetype": "text/x-python",
      "codemirror_mode": {
        "name": "ipython",
        "version": 3
      },
      "pygments_lexer": "ipython3",
      "nbconvert_exporter": "python",
      "file_extension": ".py"
    },
    "kernelspec": {
      "name": "python3",
      "display_name": "Python 3.8.5 64-bit"
    },
    "interpreter": {
      "hash": "d8283cc4fef7fdfd79fce9ff4c59fb46bb636ce565bf5e011ed8cd98646ea4d5"
    },
    "colab": {
      "provenance": [],
      "include_colab_link": true
    }
  },
  "nbformat": 4,
  "nbformat_minor": 0
}